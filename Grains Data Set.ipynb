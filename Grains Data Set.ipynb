{
 "cells": [
  {
   "cell_type": "code",
   "execution_count": 2,
   "id": "18e0db68",
   "metadata": {},
   "outputs": [],
   "source": [
    "import numpy as np\n",
    "import pandas as pd"
   ]
  },
  {
   "cell_type": "code",
   "execution_count": 3,
   "id": "de247dd7",
   "metadata": {},
   "outputs": [
    {
     "data": {
      "text/html": [
       "<div>\n",
       "<style scoped>\n",
       "    .dataframe tbody tr th:only-of-type {\n",
       "        vertical-align: middle;\n",
       "    }\n",
       "\n",
       "    .dataframe tbody tr th {\n",
       "        vertical-align: top;\n",
       "    }\n",
       "\n",
       "    .dataframe thead th {\n",
       "        text-align: right;\n",
       "    }\n",
       "</style>\n",
       "<table border=\"1\" class=\"dataframe\">\n",
       "  <thead>\n",
       "    <tr style=\"text-align: right;\">\n",
       "      <th></th>\n",
       "      <th>ticker</th>\n",
       "      <th>commodity</th>\n",
       "      <th>date</th>\n",
       "      <th>open</th>\n",
       "      <th>high</th>\n",
       "      <th>low</th>\n",
       "      <th>close</th>\n",
       "      <th>volume</th>\n",
       "    </tr>\n",
       "  </thead>\n",
       "  <tbody>\n",
       "    <tr>\n",
       "      <th>0</th>\n",
       "      <td>ZC=F</td>\n",
       "      <td>Corn</td>\n",
       "      <td>2000-07-17</td>\n",
       "      <td>182.25</td>\n",
       "      <td>182.25</td>\n",
       "      <td>178.25</td>\n",
       "      <td>179.25</td>\n",
       "      <td>19385</td>\n",
       "    </tr>\n",
       "    <tr>\n",
       "      <th>1</th>\n",
       "      <td>ZC=F</td>\n",
       "      <td>Corn</td>\n",
       "      <td>2000-07-18</td>\n",
       "      <td>179.00</td>\n",
       "      <td>183.25</td>\n",
       "      <td>179.00</td>\n",
       "      <td>180.75</td>\n",
       "      <td>25205</td>\n",
       "    </tr>\n",
       "    <tr>\n",
       "      <th>2</th>\n",
       "      <td>ZC=F</td>\n",
       "      <td>Corn</td>\n",
       "      <td>2000-07-19</td>\n",
       "      <td>180.00</td>\n",
       "      <td>182.75</td>\n",
       "      <td>178.75</td>\n",
       "      <td>182.00</td>\n",
       "      <td>17126</td>\n",
       "    </tr>\n",
       "    <tr>\n",
       "      <th>3</th>\n",
       "      <td>ZC=F</td>\n",
       "      <td>Corn</td>\n",
       "      <td>2000-07-20</td>\n",
       "      <td>181.50</td>\n",
       "      <td>187.00</td>\n",
       "      <td>181.00</td>\n",
       "      <td>186.00</td>\n",
       "      <td>18742</td>\n",
       "    </tr>\n",
       "    <tr>\n",
       "      <th>4</th>\n",
       "      <td>ZC=F</td>\n",
       "      <td>Corn</td>\n",
       "      <td>2000-07-21</td>\n",
       "      <td>185.50</td>\n",
       "      <td>188.00</td>\n",
       "      <td>185.00</td>\n",
       "      <td>187.75</td>\n",
       "      <td>16814</td>\n",
       "    </tr>\n",
       "    <tr>\n",
       "      <th>5</th>\n",
       "      <td>ZC=F</td>\n",
       "      <td>Corn</td>\n",
       "      <td>2000-07-24</td>\n",
       "      <td>187.75</td>\n",
       "      <td>189.50</td>\n",
       "      <td>183.75</td>\n",
       "      <td>184.50</td>\n",
       "      <td>14615</td>\n",
       "    </tr>\n",
       "    <tr>\n",
       "      <th>6</th>\n",
       "      <td>ZC=F</td>\n",
       "      <td>Corn</td>\n",
       "      <td>2000-07-25</td>\n",
       "      <td>183.75</td>\n",
       "      <td>184.50</td>\n",
       "      <td>181.50</td>\n",
       "      <td>182.75</td>\n",
       "      <td>13883</td>\n",
       "    </tr>\n",
       "    <tr>\n",
       "      <th>7</th>\n",
       "      <td>ZC=F</td>\n",
       "      <td>Corn</td>\n",
       "      <td>2000-07-26</td>\n",
       "      <td>182.50</td>\n",
       "      <td>183.25</td>\n",
       "      <td>179.25</td>\n",
       "      <td>180.50</td>\n",
       "      <td>14762</td>\n",
       "    </tr>\n",
       "    <tr>\n",
       "      <th>8</th>\n",
       "      <td>ZC=F</td>\n",
       "      <td>Corn</td>\n",
       "      <td>2000-07-27</td>\n",
       "      <td>180.50</td>\n",
       "      <td>183.00</td>\n",
       "      <td>180.00</td>\n",
       "      <td>181.00</td>\n",
       "      <td>12353</td>\n",
       "    </tr>\n",
       "    <tr>\n",
       "      <th>9</th>\n",
       "      <td>ZC=F</td>\n",
       "      <td>Corn</td>\n",
       "      <td>2000-07-28</td>\n",
       "      <td>181.00</td>\n",
       "      <td>182.50</td>\n",
       "      <td>180.00</td>\n",
       "      <td>180.25</td>\n",
       "      <td>12850</td>\n",
       "    </tr>\n",
       "    <tr>\n",
       "      <th>10</th>\n",
       "      <td>ZC=F</td>\n",
       "      <td>Corn</td>\n",
       "      <td>2000-07-31</td>\n",
       "      <td>178.25</td>\n",
       "      <td>182.00</td>\n",
       "      <td>177.00</td>\n",
       "      <td>180.25</td>\n",
       "      <td>19481</td>\n",
       "    </tr>\n",
       "    <tr>\n",
       "      <th>11</th>\n",
       "      <td>ZC=F</td>\n",
       "      <td>Corn</td>\n",
       "      <td>2000-08-01</td>\n",
       "      <td>180.25</td>\n",
       "      <td>181.50</td>\n",
       "      <td>179.00</td>\n",
       "      <td>179.75</td>\n",
       "      <td>16626</td>\n",
       "    </tr>\n",
       "    <tr>\n",
       "      <th>12</th>\n",
       "      <td>ZC=F</td>\n",
       "      <td>Corn</td>\n",
       "      <td>2000-08-02</td>\n",
       "      <td>179.75</td>\n",
       "      <td>182.00</td>\n",
       "      <td>179.50</td>\n",
       "      <td>180.50</td>\n",
       "      <td>15230</td>\n",
       "    </tr>\n",
       "    <tr>\n",
       "      <th>13</th>\n",
       "      <td>ZC=F</td>\n",
       "      <td>Corn</td>\n",
       "      <td>2000-08-03</td>\n",
       "      <td>180.25</td>\n",
       "      <td>182.25</td>\n",
       "      <td>178.50</td>\n",
       "      <td>180.00</td>\n",
       "      <td>15137</td>\n",
       "    </tr>\n",
       "    <tr>\n",
       "      <th>14</th>\n",
       "      <td>ZC=F</td>\n",
       "      <td>Corn</td>\n",
       "      <td>2000-08-04</td>\n",
       "      <td>179.50</td>\n",
       "      <td>180.50</td>\n",
       "      <td>178.50</td>\n",
       "      <td>178.75</td>\n",
       "      <td>12389</td>\n",
       "    </tr>\n",
       "  </tbody>\n",
       "</table>\n",
       "</div>"
      ],
      "text/plain": [
       "   ticker commodity        date    open    high     low   close  volume\n",
       "0    ZC=F      Corn  2000-07-17  182.25  182.25  178.25  179.25   19385\n",
       "1    ZC=F      Corn  2000-07-18  179.00  183.25  179.00  180.75   25205\n",
       "2    ZC=F      Corn  2000-07-19  180.00  182.75  178.75  182.00   17126\n",
       "3    ZC=F      Corn  2000-07-20  181.50  187.00  181.00  186.00   18742\n",
       "4    ZC=F      Corn  2000-07-21  185.50  188.00  185.00  187.75   16814\n",
       "5    ZC=F      Corn  2000-07-24  187.75  189.50  183.75  184.50   14615\n",
       "6    ZC=F      Corn  2000-07-25  183.75  184.50  181.50  182.75   13883\n",
       "7    ZC=F      Corn  2000-07-26  182.50  183.25  179.25  180.50   14762\n",
       "8    ZC=F      Corn  2000-07-27  180.50  183.00  180.00  181.00   12353\n",
       "9    ZC=F      Corn  2000-07-28  181.00  182.50  180.00  180.25   12850\n",
       "10   ZC=F      Corn  2000-07-31  178.25  182.00  177.00  180.25   19481\n",
       "11   ZC=F      Corn  2000-08-01  180.25  181.50  179.00  179.75   16626\n",
       "12   ZC=F      Corn  2000-08-02  179.75  182.00  179.50  180.50   15230\n",
       "13   ZC=F      Corn  2000-08-03  180.25  182.25  178.50  180.00   15137\n",
       "14   ZC=F      Corn  2000-08-04  179.50  180.50  178.50  178.75   12389"
      ]
     },
     "execution_count": 3,
     "metadata": {},
     "output_type": "execute_result"
    }
   ],
   "source": [
    "data=pd.read_csv(r\"C:\\Users\\hithe\\Downloads\\all_grains_data.csv\")\n",
    "data.head(15)"
   ]
  },
  {
   "cell_type": "code",
   "execution_count": 4,
   "id": "e52c0af0",
   "metadata": {},
   "outputs": [
    {
     "name": "stdout",
     "output_type": "stream",
     "text": [
      "<class 'pandas.core.frame.DataFrame'>\n",
      "RangeIndex: 34883 entries, 0 to 34882\n",
      "Data columns (total 8 columns):\n",
      " #   Column     Non-Null Count  Dtype  \n",
      "---  ------     --------------  -----  \n",
      " 0   ticker     34883 non-null  object \n",
      " 1   commodity  34883 non-null  object \n",
      " 2   date       34883 non-null  object \n",
      " 3   open       34883 non-null  float64\n",
      " 4   high       34883 non-null  float64\n",
      " 5   low        34883 non-null  float64\n",
      " 6   close      34883 non-null  float64\n",
      " 7   volume     34883 non-null  int64  \n",
      "dtypes: float64(4), int64(1), object(3)\n",
      "memory usage: 2.1+ MB\n"
     ]
    }
   ],
   "source": [
    "data.info()"
   ]
  },
  {
   "cell_type": "markdown",
   "id": "aa505234",
   "metadata": {},
   "source": [
    "### 1) Which commodity was having the highest opening price for the day"
   ]
  },
  {
   "cell_type": "code",
   "execution_count": 5,
   "id": "ad0f7f2d",
   "metadata": {},
   "outputs": [
    {
     "data": {
      "text/html": [
       "<div>\n",
       "<style scoped>\n",
       "    .dataframe tbody tr th:only-of-type {\n",
       "        vertical-align: middle;\n",
       "    }\n",
       "\n",
       "    .dataframe tbody tr th {\n",
       "        vertical-align: top;\n",
       "    }\n",
       "\n",
       "    .dataframe thead th {\n",
       "        text-align: right;\n",
       "    }\n",
       "</style>\n",
       "<table border=\"1\" class=\"dataframe\">\n",
       "  <thead>\n",
       "    <tr style=\"text-align: right;\">\n",
       "      <th></th>\n",
       "      <th>commodity</th>\n",
       "      <th>open</th>\n",
       "    </tr>\n",
       "  </thead>\n",
       "  <tbody>\n",
       "    <tr>\n",
       "      <th>19437</th>\n",
       "      <td>Rough Rice</td>\n",
       "      <td>2435.0</td>\n",
       "    </tr>\n",
       "  </tbody>\n",
       "</table>\n",
       "</div>"
      ],
      "text/plain": [
       "        commodity    open\n",
       "19437  Rough Rice  2435.0"
      ]
     },
     "execution_count": 5,
     "metadata": {},
     "output_type": "execute_result"
    }
   ],
   "source": [
    "data.loc[data['open']==data['open'].max(),['commodity','open']]"
   ]
  },
  {
   "cell_type": "markdown",
   "id": "d7485ec2",
   "metadata": {},
   "source": [
    "### 2) Which commodity price reached  maximum during the trading session."
   ]
  },
  {
   "cell_type": "code",
   "execution_count": 6,
   "id": "33d99007",
   "metadata": {},
   "outputs": [
    {
     "data": {
      "text/html": [
       "<div>\n",
       "<style scoped>\n",
       "    .dataframe tbody tr th:only-of-type {\n",
       "        vertical-align: middle;\n",
       "    }\n",
       "\n",
       "    .dataframe tbody tr th {\n",
       "        vertical-align: top;\n",
       "    }\n",
       "\n",
       "    .dataframe thead th {\n",
       "        text-align: right;\n",
       "    }\n",
       "</style>\n",
       "<table border=\"1\" class=\"dataframe\">\n",
       "  <thead>\n",
       "    <tr style=\"text-align: right;\">\n",
       "      <th></th>\n",
       "      <th>commodity</th>\n",
       "      <th>high</th>\n",
       "    </tr>\n",
       "  </thead>\n",
       "  <tbody>\n",
       "    <tr>\n",
       "      <th>19437</th>\n",
       "      <td>Rough Rice</td>\n",
       "      <td>2468.5</td>\n",
       "    </tr>\n",
       "  </tbody>\n",
       "</table>\n",
       "</div>"
      ],
      "text/plain": [
       "        commodity    high\n",
       "19437  Rough Rice  2468.5"
      ]
     },
     "execution_count": 6,
     "metadata": {},
     "output_type": "execute_result"
    }
   ],
   "source": [
    "data.loc[data['high']==data['high'].max(),['commodity','high']]"
   ]
  },
  {
   "cell_type": "markdown",
   "id": "fc52bc6d",
   "metadata": {},
   "source": [
    "### 3) What is the average Market's opening price for the Oat in 2010"
   ]
  },
  {
   "cell_type": "code",
   "execution_count": 8,
   "id": "f5ba1227",
   "metadata": {},
   "outputs": [
    {
     "data": {
      "text/plain": [
       "open    275.116071\n",
       "dtype: float64"
      ]
     },
     "execution_count": 8,
     "metadata": {},
     "output_type": "execute_result"
    }
   ],
   "source": [
    "data[\"date\"]=pd.to_datetime(data[\"date\"])\n",
    "data.loc[(data[\"date\"].dt.year==2010) & (data[\"commodity\"]==\"Oat\"),[\"open\"]].mean()"
   ]
  },
  {
   "cell_type": "markdown",
   "id": "24532386",
   "metadata": {},
   "source": [
    "### 4) What is the maximum and minimum Number of contracts traded during the 2009 "
   ]
  },
  {
   "cell_type": "code",
   "execution_count": 17,
   "id": "647ed500",
   "metadata": {},
   "outputs": [
    {
     "name": "stdout",
     "output_type": "stream",
     "text": [
      "maximum number of contracts traded during the 2009 volume    252221\n",
      "dtype: int64\n",
      "minimum number of contracts traded during the 2009 volume    0\n",
      "dtype: int64\n"
     ]
    }
   ],
   "source": [
    "print('maximum number of contracts traded during the 2009',data.loc[data['date'].dt.year==2009,['volume']].max())\n",
    "print('minimum number of contracts traded during the 2009',data.loc[data['date'].dt.year==2009,['volume']].min())"
   ]
  },
  {
   "cell_type": "markdown",
   "id": "f1595e39",
   "metadata": {},
   "source": [
    "### 5) Which year have  maximum and minimum Number of contracts traded "
   ]
  },
  {
   "cell_type": "code",
   "execution_count": 11,
   "id": "01711328",
   "metadata": {},
   "outputs": [
    {
     "name": "stdout",
     "output_type": "stream",
     "text": [
      "Maximum            date\n",
      "4216 2017-06-07\n",
      "Minimum             date\n",
      "821   2003-12-11\n",
      "1328  2005-12-13\n",
      "4486  2018-07-03\n",
      "4528  2018-08-31\n",
      "5682  2023-04-06\n",
      "...          ...\n",
      "29219 2001-03-13\n",
      "30306 2005-07-12\n",
      "33573 2018-07-03\n",
      "33615 2018-08-31\n",
      "34771 2023-04-06\n",
      "\n",
      "[2812 rows x 1 columns]\n"
     ]
    }
   ],
   "source": [
    "print('Maximum',data.loc[data['volume']==data['volume'].max(),['date']])\n",
    "print('Minimum',data.loc[data['volume']==data['volume'].min(),['date']])"
   ]
  },
  {
   "cell_type": "markdown",
   "id": "173ee7fb",
   "metadata": {},
   "source": [
    "### 6) Which commodity have the average lowest opening price around 2001 to 2005 "
   ]
  },
  {
   "cell_type": "code",
   "execution_count": 40,
   "id": "efb1f252",
   "metadata": {},
   "outputs": [
    {
     "data": {
      "text/plain": [
       "commodity    Corn\n",
       "open         14.4\n",
       "dtype: object"
      ]
     },
     "execution_count": 40,
     "metadata": {},
     "output_type": "execute_result"
    }
   ],
   "source": [
    "b=data.loc[(data['date'].dt.year>=2001) & (data['date'].dt.year<=2005),['commodity','open']]\n",
    "b.groupby('commodity')['open'].min()\n",
    "b.min()"
   ]
  },
  {
   "cell_type": "markdown",
   "id": "5fe0edbc",
   "metadata": {},
   "source": [
    "### 7) Which commodity have the best average  Market's closing price"
   ]
  },
  {
   "cell_type": "code",
   "execution_count": 33,
   "id": "4c5d03b5",
   "metadata": {},
   "outputs": [
    {
     "data": {
      "text/plain": [
       "'Rough Rice'"
      ]
     },
     "execution_count": 33,
     "metadata": {},
     "output_type": "execute_result"
    }
   ],
   "source": [
    "a=data.groupby(\"commodity\")['close'].mean()\n",
    "a.idxmax()"
   ]
  },
  {
   "cell_type": "code",
   "execution_count": 18,
   "id": "5cdb2359",
   "metadata": {},
   "outputs": [
    {
     "data": {
      "text/plain": [
       "array(['Corn', 'Oat', 'KC HRW Wheat', 'Rough Rice', 'Soybean Oil',\n",
       "       'Soybean'], dtype=object)"
      ]
     },
     "execution_count": 18,
     "metadata": {},
     "output_type": "execute_result"
    }
   ],
   "source": [
    "data['commodity'].unique()"
   ]
  },
  {
   "cell_type": "code",
   "execution_count": 21,
   "id": "1240310a",
   "metadata": {
    "scrolled": true
   },
   "outputs": [
    {
     "name": "stdout",
     "output_type": "stream",
     "text": [
      "Corn close    409.404772\n",
      "dtype: float64\n",
      "Oat close    278.657674\n",
      "dtype: float64\n",
      "KC HRW Wheat close    563.693282\n",
      "dtype: float64\n",
      "Rough Rice close    1143.607925\n",
      "dtype: float64\n",
      "Soybean Oil close    36.820361\n",
      "dtype: float64\n",
      "Soybean close    998.015728\n",
      "dtype: float64\n"
     ]
    }
   ],
   "source": [
    "print('Corn',data.loc[data['commodity']=='Corn',['close']].mean())\n",
    "print('Oat',data.loc[data['commodity']=='Oat',['close']].mean())\n",
    "print('KC HRW Wheat',data.loc[data['commodity']=='KC HRW Wheat',['close']].mean())\n",
    "print('Rough Rice',data.loc[data['commodity']=='Rough Rice',['close']].mean())\n",
    "print('Soybean Oil',data.loc[data['commodity']=='Soybean Oil',['close']].mean())\n",
    "print('Soybean',data.loc[data['commodity']=='Soybean',['close']].mean())"
   ]
  },
  {
   "cell_type": "markdown",
   "id": "81c6df5f",
   "metadata": {},
   "source": [
    "### 8) Which year corn have the highest and lowest Number of contracts traded"
   ]
  },
  {
   "cell_type": "code",
   "execution_count": 50,
   "id": "c67ccbae",
   "metadata": {},
   "outputs": [
    {
     "name": "stdout",
     "output_type": "stream",
     "text": [
      "Highest volume                 523849\n",
      "date      2023-09-15 00:00:00\n",
      "dtype: object\n",
      "Lowest volume                      0\n",
      "date      2000-07-17 00:00:00\n",
      "dtype: object\n"
     ]
    }
   ],
   "source": [
    "print('Highest',data.loc[data['commodity']=='Corn',['volume','date']].max())\n",
    "print('Lowest',data.loc[data['commodity']=='Corn',['volume','date']].min())"
   ]
  },
  {
   "cell_type": "code",
   "execution_count": null,
   "id": "0b28f9e5",
   "metadata": {},
   "outputs": [],
   "source": []
  }
 ],
 "metadata": {
  "kernelspec": {
   "display_name": "Python 3 (ipykernel)",
   "language": "python",
   "name": "python3"
  },
  "language_info": {
   "codemirror_mode": {
    "name": "ipython",
    "version": 3
   },
   "file_extension": ".py",
   "mimetype": "text/x-python",
   "name": "python",
   "nbconvert_exporter": "python",
   "pygments_lexer": "ipython3",
   "version": "3.11.3"
  }
 },
 "nbformat": 4,
 "nbformat_minor": 5
}
