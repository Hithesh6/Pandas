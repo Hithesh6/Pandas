{
 "cells": [
  {
   "cell_type": "code",
   "execution_count": 2,
   "id": "5da52e4a",
   "metadata": {},
   "outputs": [],
   "source": [
    "import numpy as np\n",
    "import pandas as pd"
   ]
  },
  {
   "cell_type": "markdown",
   "id": "efa4080d",
   "metadata": {},
   "source": [
    "# DataSet-1"
   ]
  },
  {
   "cell_type": "code",
   "execution_count": 31,
   "id": "91eb55c5",
   "metadata": {},
   "outputs": [
    {
     "data": {
      "text/html": [
       "<div>\n",
       "<style scoped>\n",
       "    .dataframe tbody tr th:only-of-type {\n",
       "        vertical-align: middle;\n",
       "    }\n",
       "\n",
       "    .dataframe tbody tr th {\n",
       "        vertical-align: top;\n",
       "    }\n",
       "\n",
       "    .dataframe thead th {\n",
       "        text-align: right;\n",
       "    }\n",
       "</style>\n",
       "<table border=\"1\" class=\"dataframe\">\n",
       "  <thead>\n",
       "    <tr style=\"text-align: right;\">\n",
       "      <th></th>\n",
       "      <th>Unnamed: 0</th>\n",
       "      <th>total_bill</th>\n",
       "      <th>tip</th>\n",
       "      <th>sex</th>\n",
       "      <th>smoker</th>\n",
       "      <th>day</th>\n",
       "      <th>time</th>\n",
       "      <th>size</th>\n",
       "    </tr>\n",
       "  </thead>\n",
       "  <tbody>\n",
       "    <tr>\n",
       "      <th>0</th>\n",
       "      <td>0</td>\n",
       "      <td>16.99</td>\n",
       "      <td>1.01</td>\n",
       "      <td>0</td>\n",
       "      <td>0</td>\n",
       "      <td>1</td>\n",
       "      <td>0</td>\n",
       "      <td>2</td>\n",
       "    </tr>\n",
       "    <tr>\n",
       "      <th>1</th>\n",
       "      <td>1</td>\n",
       "      <td>10.34</td>\n",
       "      <td>1.66</td>\n",
       "      <td>1</td>\n",
       "      <td>0</td>\n",
       "      <td>1</td>\n",
       "      <td>0</td>\n",
       "      <td>3</td>\n",
       "    </tr>\n",
       "    <tr>\n",
       "      <th>2</th>\n",
       "      <td>2</td>\n",
       "      <td>21.01</td>\n",
       "      <td>3.50</td>\n",
       "      <td>1</td>\n",
       "      <td>0</td>\n",
       "      <td>1</td>\n",
       "      <td>0</td>\n",
       "      <td>3</td>\n",
       "    </tr>\n",
       "    <tr>\n",
       "      <th>3</th>\n",
       "      <td>3</td>\n",
       "      <td>23.68</td>\n",
       "      <td>3.31</td>\n",
       "      <td>1</td>\n",
       "      <td>0</td>\n",
       "      <td>1</td>\n",
       "      <td>0</td>\n",
       "      <td>2</td>\n",
       "    </tr>\n",
       "    <tr>\n",
       "      <th>4</th>\n",
       "      <td>4</td>\n",
       "      <td>24.59</td>\n",
       "      <td>3.61</td>\n",
       "      <td>0</td>\n",
       "      <td>0</td>\n",
       "      <td>1</td>\n",
       "      <td>0</td>\n",
       "      <td>4</td>\n",
       "    </tr>\n",
       "    <tr>\n",
       "      <th>...</th>\n",
       "      <td>...</td>\n",
       "      <td>...</td>\n",
       "      <td>...</td>\n",
       "      <td>...</td>\n",
       "      <td>...</td>\n",
       "      <td>...</td>\n",
       "      <td>...</td>\n",
       "      <td>...</td>\n",
       "    </tr>\n",
       "    <tr>\n",
       "      <th>239</th>\n",
       "      <td>239</td>\n",
       "      <td>29.03</td>\n",
       "      <td>5.92</td>\n",
       "      <td>1</td>\n",
       "      <td>0</td>\n",
       "      <td>0</td>\n",
       "      <td>0</td>\n",
       "      <td>3</td>\n",
       "    </tr>\n",
       "    <tr>\n",
       "      <th>240</th>\n",
       "      <td>240</td>\n",
       "      <td>27.18</td>\n",
       "      <td>2.00</td>\n",
       "      <td>0</td>\n",
       "      <td>1</td>\n",
       "      <td>0</td>\n",
       "      <td>0</td>\n",
       "      <td>2</td>\n",
       "    </tr>\n",
       "    <tr>\n",
       "      <th>241</th>\n",
       "      <td>241</td>\n",
       "      <td>22.67</td>\n",
       "      <td>2.00</td>\n",
       "      <td>1</td>\n",
       "      <td>1</td>\n",
       "      <td>0</td>\n",
       "      <td>0</td>\n",
       "      <td>2</td>\n",
       "    </tr>\n",
       "    <tr>\n",
       "      <th>242</th>\n",
       "      <td>242</td>\n",
       "      <td>17.82</td>\n",
       "      <td>1.75</td>\n",
       "      <td>1</td>\n",
       "      <td>0</td>\n",
       "      <td>0</td>\n",
       "      <td>0</td>\n",
       "      <td>2</td>\n",
       "    </tr>\n",
       "    <tr>\n",
       "      <th>243</th>\n",
       "      <td>243</td>\n",
       "      <td>18.78</td>\n",
       "      <td>3.00</td>\n",
       "      <td>0</td>\n",
       "      <td>0</td>\n",
       "      <td>2</td>\n",
       "      <td>0</td>\n",
       "      <td>2</td>\n",
       "    </tr>\n",
       "  </tbody>\n",
       "</table>\n",
       "<p>244 rows × 8 columns</p>\n",
       "</div>"
      ],
      "text/plain": [
       "     Unnamed: 0  total_bill   tip  sex  smoker  day  time  size\n",
       "0             0       16.99  1.01    0       0    1     0     2\n",
       "1             1       10.34  1.66    1       0    1     0     3\n",
       "2             2       21.01  3.50    1       0    1     0     3\n",
       "3             3       23.68  3.31    1       0    1     0     2\n",
       "4             4       24.59  3.61    0       0    1     0     4\n",
       "..          ...         ...   ...  ...     ...  ...   ...   ...\n",
       "239         239       29.03  5.92    1       0    0     0     3\n",
       "240         240       27.18  2.00    0       1    0     0     2\n",
       "241         241       22.67  2.00    1       1    0     0     2\n",
       "242         242       17.82  1.75    1       0    0     0     2\n",
       "243         243       18.78  3.00    0       0    2     0     2\n",
       "\n",
       "[244 rows x 8 columns]"
      ]
     },
     "execution_count": 31,
     "metadata": {},
     "output_type": "execute_result"
    }
   ],
   "source": [
    "data1=pd.read_csv(r\"C:\\Users\\hithe\\Downloads\\tipsf.csv\")\n",
    "data1"
   ]
  },
  {
   "cell_type": "markdown",
   "id": "5203f4d1",
   "metadata": {},
   "source": [
    "## 1) What is the total bill value"
   ]
  },
  {
   "cell_type": "code",
   "execution_count": 23,
   "id": "b25544fc",
   "metadata": {},
   "outputs": [
    {
     "name": "stdout",
     "output_type": "stream",
     "text": [
      "4827.770000000001\n"
     ]
    }
   ],
   "source": [
    "a=data1['total_bill']\n",
    "print(sum(a))"
   ]
  },
  {
   "cell_type": "markdown",
   "id": "78041560",
   "metadata": {},
   "source": [
    "## 2) What is the total tip value"
   ]
  },
  {
   "cell_type": "code",
   "execution_count": 24,
   "id": "cb5cdc51",
   "metadata": {},
   "outputs": [
    {
     "name": "stdout",
     "output_type": "stream",
     "text": [
      "731.58\n"
     ]
    }
   ],
   "source": [
    "b=data1['tip']\n",
    "print(sum(b))"
   ]
  },
  {
   "cell_type": "markdown",
   "id": "4fb41c41",
   "metadata": {},
   "source": [
    "## 3) count how many sunday,saturday,thursdays,fridays are there"
   ]
  },
  {
   "cell_type": "code",
   "execution_count": 28,
   "id": "fc8bf63e",
   "metadata": {},
   "outputs": [
    {
     "name": "stdout",
     "output_type": "stream",
     "text": [
      "Thursdays:- 87\n",
      "Fridays:- 76\n",
      "Saturdays:- 62\n",
      "Sundays:- 19\n"
     ]
    }
   ],
   "source": [
    "c1=data1.loc[data1['day']==0,['day']]\n",
    "c2=data1.loc[data1['day']==1,['day']]\n",
    "c3=data1.loc[data1['day']==2,['day']]\n",
    "c4=data1.loc[data1['day']==3,['day']]\n",
    "print('Thursdays:-',len(c1))\n",
    "print('Fridays:-',len(c2))\n",
    "print('Saturdays:-',len(c3))\n",
    "print('Sundays:-',len(c4))"
   ]
  },
  {
   "cell_type": "markdown",
   "id": "f601d18d",
   "metadata": {},
   "source": [
    "## 4) How many smokers are there"
   ]
  },
  {
   "cell_type": "code",
   "execution_count": 29,
   "id": "093e00ed",
   "metadata": {},
   "outputs": [
    {
     "data": {
      "text/plain": [
       "93"
      ]
     },
     "execution_count": 29,
     "metadata": {},
     "output_type": "execute_result"
    }
   ],
   "source": [
    "d=data1.loc[data1['smoker']==1,['smoker']]\n",
    "len(d)"
   ]
  },
  {
   "cell_type": "markdown",
   "id": "07cdb67d",
   "metadata": {},
   "source": [
    "## 5) What is the avg tip given by male and female"
   ]
  },
  {
   "cell_type": "code",
   "execution_count": 36,
   "id": "2656949d",
   "metadata": {},
   "outputs": [
    {
     "name": "stdout",
     "output_type": "stream",
     "text": [
      "Avg tip by female:- tip    2.833448\n",
      "dtype: float64\n",
      "Avg tip by male:- tip    3.089618\n",
      "dtype: float64\n"
     ]
    }
   ],
   "source": [
    "e1=data1.loc[data1['sex']==0,['tip']]\n",
    "e2=data1.loc[data1['sex']==1,['tip']]\n",
    "print('Avg tip by female:-',e1.mean())\n",
    "print('Avg tip by male:-',e2.mean())"
   ]
  },
  {
   "cell_type": "markdown",
   "id": "3b80fac9",
   "metadata": {},
   "source": [
    "## 6) How much amount have been spent by male and female"
   ]
  },
  {
   "cell_type": "code",
   "execution_count": 38,
   "id": "e995ca64",
   "metadata": {},
   "outputs": [
    {
     "name": "stdout",
     "output_type": "stream",
     "text": [
      "sum of amount by female:- tip    246.51\n",
      "dtype: float64\n",
      "sum of amount by male:- tip    485.07\n",
      "dtype: float64\n"
     ]
    }
   ],
   "source": [
    "f1=data1.loc[data1['sex']==0,['total_bill']]\n",
    "f2=data1.loc[data1['sex']==1,['total_bill']]\n",
    "print('sum of amount by female:-',e1.sum())\n",
    "print('sum of amount by male:-',e2.sum())"
   ]
  },
  {
   "cell_type": "markdown",
   "id": "38661097",
   "metadata": {},
   "source": [
    "## 7) What is the min and max tip given"
   ]
  },
  {
   "cell_type": "code",
   "execution_count": 48,
   "id": "358cb567",
   "metadata": {},
   "outputs": [
    {
     "name": "stdout",
     "output_type": "stream",
     "text": [
      "max:-  tip    6.5\n",
      "dtype: float64 \n",
      " min:-  tip    1.0\n",
      "dtype: float64\n"
     ]
    }
   ],
   "source": [
    "g=data1.loc[data1['sex']==0,['tip']]\n",
    "print('max:- ',g.max(),'\\n','min:- ',g.min())"
   ]
  },
  {
   "cell_type": "markdown",
   "id": "232b251d",
   "metadata": {},
   "source": [
    "## 8) How many male and females are going for lunch and dinner"
   ]
  },
  {
   "cell_type": "code",
   "execution_count": 27,
   "id": "c5435fa0",
   "metadata": {},
   "outputs": [
    {
     "name": "stdout",
     "output_type": "stream",
     "text": [
      "male lunch:- 124\n",
      "male dinner:- 33\n",
      "female lunch:- 52\n",
      "female dinner:- 35\n"
     ]
    }
   ],
   "source": [
    "# 0=lunch, 1=dinner\n",
    "male_l=data1.loc[(data1['sex']==1) & (data1['time']==0),['sex']]\n",
    "male_d=data1.loc[(data1['sex']==1) & (data1['time']==1),['sex']]\n",
    "female_l=data1.loc[(data1['sex']==0) & (data1['time']==0),['sex']]\n",
    "female_d=data1.loc[(data1['sex']==0) & (data1['time']==1),['sex']]\n",
    "print('male lunch:-',len(male_l))\n",
    "print('male dinner:-',len(male_d))\n",
    "print('female lunch:-',len(female_l))\n",
    "print('female dinner:-',len(female_d))"
   ]
  },
  {
   "cell_type": "markdown",
   "id": "74536c4c",
   "metadata": {},
   "source": [
    "## 9)Find out the avg size"
   ]
  },
  {
   "cell_type": "code",
   "execution_count": 4,
   "id": "bcb7904b",
   "metadata": {},
   "outputs": [
    {
     "data": {
      "text/plain": [
       "size    3.0\n",
       "dtype: float64"
      ]
     },
     "execution_count": 4,
     "metadata": {},
     "output_type": "execute_result"
    }
   ],
   "source": [
    "data1.loc[data1['size'],['size']].mean()"
   ]
  },
  {
   "cell_type": "markdown",
   "id": "364723dd",
   "metadata": {},
   "source": [
    "## 10) How many female smokers are there and males are there"
   ]
  },
  {
   "cell_type": "code",
   "execution_count": 25,
   "id": "5c578dd1",
   "metadata": {},
   "outputs": [
    {
     "name": "stdout",
     "output_type": "stream",
     "text": [
      "female 33\n",
      "male 60\n"
     ]
    }
   ],
   "source": [
    "female_smokers = data1.loc[(data1['sex'] == 0) & (data1['smoker'] == 1)]\n",
    "male_smokers = data1.loc[(data1['sex'] == 1) & (data1['smoker'] == 1)]\n",
    "print('female',len(female_smokers['sex']))\n",
    "print('male',len(male_smokers['sex']))"
   ]
  },
  {
   "cell_type": "markdown",
   "id": "d4c01877",
   "metadata": {},
   "source": [
    "# DataSet-2 "
   ]
  },
  {
   "cell_type": "code",
   "execution_count": 33,
   "id": "13aa5702",
   "metadata": {},
   "outputs": [
    {
     "data": {
      "text/html": [
       "<div>\n",
       "<style scoped>\n",
       "    .dataframe tbody tr th:only-of-type {\n",
       "        vertical-align: middle;\n",
       "    }\n",
       "\n",
       "    .dataframe tbody tr th {\n",
       "        vertical-align: top;\n",
       "    }\n",
       "\n",
       "    .dataframe thead th {\n",
       "        text-align: right;\n",
       "    }\n",
       "</style>\n",
       "<table border=\"1\" class=\"dataframe\">\n",
       "  <thead>\n",
       "    <tr style=\"text-align: right;\">\n",
       "      <th></th>\n",
       "      <th>Length</th>\n",
       "      <th>Diameter</th>\n",
       "      <th>Height</th>\n",
       "      <th>Weight</th>\n",
       "      <th>Shucked Weight</th>\n",
       "      <th>Viscera Weight</th>\n",
       "      <th>Shell Weight</th>\n",
       "      <th>Age</th>\n",
       "    </tr>\n",
       "  </thead>\n",
       "  <tbody>\n",
       "    <tr>\n",
       "      <th>0</th>\n",
       "      <td>1.5750</td>\n",
       "      <td>1.2250</td>\n",
       "      <td>0.3750</td>\n",
       "      <td>31.226974</td>\n",
       "      <td>12.303683</td>\n",
       "      <td>6.321938</td>\n",
       "      <td>9.638830</td>\n",
       "      <td>10</td>\n",
       "    </tr>\n",
       "    <tr>\n",
       "      <th>1</th>\n",
       "      <td>1.2375</td>\n",
       "      <td>1.0000</td>\n",
       "      <td>0.3750</td>\n",
       "      <td>21.885814</td>\n",
       "      <td>7.654365</td>\n",
       "      <td>3.798833</td>\n",
       "      <td>7.654365</td>\n",
       "      <td>19</td>\n",
       "    </tr>\n",
       "    <tr>\n",
       "      <th>2</th>\n",
       "      <td>1.4500</td>\n",
       "      <td>1.1625</td>\n",
       "      <td>0.4125</td>\n",
       "      <td>28.250277</td>\n",
       "      <td>11.127179</td>\n",
       "      <td>7.016501</td>\n",
       "      <td>7.257472</td>\n",
       "      <td>11</td>\n",
       "    </tr>\n",
       "    <tr>\n",
       "      <th>3</th>\n",
       "      <td>1.3500</td>\n",
       "      <td>1.0250</td>\n",
       "      <td>0.3750</td>\n",
       "      <td>21.588144</td>\n",
       "      <td>9.738053</td>\n",
       "      <td>4.110678</td>\n",
       "      <td>6.378637</td>\n",
       "      <td>9</td>\n",
       "    </tr>\n",
       "    <tr>\n",
       "      <th>4</th>\n",
       "      <td>1.1375</td>\n",
       "      <td>0.8750</td>\n",
       "      <td>0.2875</td>\n",
       "      <td>14.968536</td>\n",
       "      <td>5.953395</td>\n",
       "      <td>2.962523</td>\n",
       "      <td>3.713785</td>\n",
       "      <td>8</td>\n",
       "    </tr>\n",
       "    <tr>\n",
       "      <th>...</th>\n",
       "      <td>...</td>\n",
       "      <td>...</td>\n",
       "      <td>...</td>\n",
       "      <td>...</td>\n",
       "      <td>...</td>\n",
       "      <td>...</td>\n",
       "      <td>...</td>\n",
       "      <td>...</td>\n",
       "    </tr>\n",
       "    <tr>\n",
       "      <th>199995</th>\n",
       "      <td>1.8125</td>\n",
       "      <td>1.2750</td>\n",
       "      <td>0.4375</td>\n",
       "      <td>42.141532</td>\n",
       "      <td>20.000572</td>\n",
       "      <td>9.979024</td>\n",
       "      <td>11.609120</td>\n",
       "      <td>11</td>\n",
       "    </tr>\n",
       "    <tr>\n",
       "      <th>199996</th>\n",
       "      <td>0.9875</td>\n",
       "      <td>0.6750</td>\n",
       "      <td>0.2375</td>\n",
       "      <td>7.980384</td>\n",
       "      <td>3.742134</td>\n",
       "      <td>1.913591</td>\n",
       "      <td>2.267960</td>\n",
       "      <td>6</td>\n",
       "    </tr>\n",
       "    <tr>\n",
       "      <th>199997</th>\n",
       "      <td>1.1250</td>\n",
       "      <td>0.9125</td>\n",
       "      <td>0.2875</td>\n",
       "      <td>10.886208</td>\n",
       "      <td>4.904464</td>\n",
       "      <td>1.984465</td>\n",
       "      <td>3.118445</td>\n",
       "      <td>7</td>\n",
       "    </tr>\n",
       "    <tr>\n",
       "      <th>199998</th>\n",
       "      <td>1.6250</td>\n",
       "      <td>1.2750</td>\n",
       "      <td>0.4125</td>\n",
       "      <td>33.891827</td>\n",
       "      <td>13.196692</td>\n",
       "      <td>7.866986</td>\n",
       "      <td>10.489315</td>\n",
       "      <td>11</td>\n",
       "    </tr>\n",
       "    <tr>\n",
       "      <th>199999</th>\n",
       "      <td>1.5875</td>\n",
       "      <td>1.2500</td>\n",
       "      <td>0.3875</td>\n",
       "      <td>34.373769</td>\n",
       "      <td>17.222321</td>\n",
       "      <td>7.385045</td>\n",
       "      <td>8.788345</td>\n",
       "      <td>11</td>\n",
       "    </tr>\n",
       "  </tbody>\n",
       "</table>\n",
       "<p>200000 rows × 8 columns</p>\n",
       "</div>"
      ],
      "text/plain": [
       "        Length  Diameter  Height     Weight  Shucked Weight  Viscera Weight  \\\n",
       "0       1.5750    1.2250  0.3750  31.226974       12.303683        6.321938   \n",
       "1       1.2375    1.0000  0.3750  21.885814        7.654365        3.798833   \n",
       "2       1.4500    1.1625  0.4125  28.250277       11.127179        7.016501   \n",
       "3       1.3500    1.0250  0.3750  21.588144        9.738053        4.110678   \n",
       "4       1.1375    0.8750  0.2875  14.968536        5.953395        2.962523   \n",
       "...        ...       ...     ...        ...             ...             ...   \n",
       "199995  1.8125    1.2750  0.4375  42.141532       20.000572        9.979024   \n",
       "199996  0.9875    0.6750  0.2375   7.980384        3.742134        1.913591   \n",
       "199997  1.1250    0.9125  0.2875  10.886208        4.904464        1.984465   \n",
       "199998  1.6250    1.2750  0.4125  33.891827       13.196692        7.866986   \n",
       "199999  1.5875    1.2500  0.3875  34.373769       17.222321        7.385045   \n",
       "\n",
       "        Shell Weight  Age  \n",
       "0           9.638830   10  \n",
       "1           7.654365   19  \n",
       "2           7.257472   11  \n",
       "3           6.378637    9  \n",
       "4           3.713785    8  \n",
       "...              ...  ...  \n",
       "199995     11.609120   11  \n",
       "199996      2.267960    6  \n",
       "199997      3.118445    7  \n",
       "199998     10.489315   11  \n",
       "199999      8.788345   11  \n",
       "\n",
       "[200000 rows x 8 columns]"
      ]
     },
     "execution_count": 33,
     "metadata": {},
     "output_type": "execute_result"
    }
   ],
   "source": [
    "data2=pd.read_csv(r\"C:\\Users\\hithe\\Downloads\\train_extended.csv\")\n",
    "data2"
   ]
  },
  {
   "cell_type": "markdown",
   "id": "9caf02d6",
   "metadata": {},
   "source": [
    "## 1) what is the min and max of length column"
   ]
  },
  {
   "cell_type": "code",
   "execution_count": 36,
   "id": "5a66be00",
   "metadata": {},
   "outputs": [
    {
     "name": "stdout",
     "output_type": "stream",
     "text": [
      "Max:- 7.58349125\n",
      "Min:- 0.0\n"
     ]
    }
   ],
   "source": [
    "z1=data2['Length']\n",
    "print('Max:-',z1.max())\n",
    "print('Min:-',z1.min())"
   ]
  },
  {
   "cell_type": "markdown",
   "id": "226a4447",
   "metadata": {},
   "source": [
    "## 2) Difference between the max and min length of the length coloumn"
   ]
  },
  {
   "cell_type": "code",
   "execution_count": 37,
   "id": "90724186",
   "metadata": {},
   "outputs": [
    {
     "name": "stdout",
     "output_type": "stream",
     "text": [
      "Difference betweee max and min of length:- 7.58349125\n"
     ]
    }
   ],
   "source": [
    "print('Difference betweee max and min of length:-',z1.max()-z1.min())"
   ]
  },
  {
   "cell_type": "markdown",
   "id": "8595f610",
   "metadata": {},
   "source": [
    "## 3) Find coloumn wise age"
   ]
  },
  {
   "cell_type": "code",
   "execution_count": 38,
   "id": "3d0a7a80",
   "metadata": {},
   "outputs": [
    {
     "data": {
      "text/plain": [
       "0         10\n",
       "1         19\n",
       "2         11\n",
       "3          9\n",
       "4          8\n",
       "          ..\n",
       "199995    11\n",
       "199996     6\n",
       "199997     7\n",
       "199998    11\n",
       "199999    11\n",
       "Name: Age, Length: 200000, dtype: int64"
      ]
     },
     "execution_count": 38,
     "metadata": {},
     "output_type": "execute_result"
    }
   ],
   "source": [
    "data2['Age']"
   ]
  },
  {
   "cell_type": "markdown",
   "id": "7c129568",
   "metadata": {},
   "source": [
    "## 4) Find out all the age whose height is greater than 0.4"
   ]
  },
  {
   "cell_type": "code",
   "execution_count": 40,
   "id": "7afedac6",
   "metadata": {},
   "outputs": [
    {
     "data": {
      "text/html": [
       "<div>\n",
       "<style scoped>\n",
       "    .dataframe tbody tr th:only-of-type {\n",
       "        vertical-align: middle;\n",
       "    }\n",
       "\n",
       "    .dataframe tbody tr th {\n",
       "        vertical-align: top;\n",
       "    }\n",
       "\n",
       "    .dataframe thead th {\n",
       "        text-align: right;\n",
       "    }\n",
       "</style>\n",
       "<table border=\"1\" class=\"dataframe\">\n",
       "  <thead>\n",
       "    <tr style=\"text-align: right;\">\n",
       "      <th></th>\n",
       "      <th>Height</th>\n",
       "    </tr>\n",
       "  </thead>\n",
       "  <tbody>\n",
       "    <tr>\n",
       "      <th>2</th>\n",
       "      <td>0.4125</td>\n",
       "    </tr>\n",
       "    <tr>\n",
       "      <th>6</th>\n",
       "      <td>0.4375</td>\n",
       "    </tr>\n",
       "    <tr>\n",
       "      <th>7</th>\n",
       "      <td>0.4375</td>\n",
       "    </tr>\n",
       "    <tr>\n",
       "      <th>10</th>\n",
       "      <td>0.4250</td>\n",
       "    </tr>\n",
       "    <tr>\n",
       "      <th>14</th>\n",
       "      <td>0.4750</td>\n",
       "    </tr>\n",
       "    <tr>\n",
       "      <th>...</th>\n",
       "      <td>...</td>\n",
       "    </tr>\n",
       "    <tr>\n",
       "      <th>199976</th>\n",
       "      <td>0.4375</td>\n",
       "    </tr>\n",
       "    <tr>\n",
       "      <th>199977</th>\n",
       "      <td>0.4125</td>\n",
       "    </tr>\n",
       "    <tr>\n",
       "      <th>199984</th>\n",
       "      <td>0.4250</td>\n",
       "    </tr>\n",
       "    <tr>\n",
       "      <th>199995</th>\n",
       "      <td>0.4375</td>\n",
       "    </tr>\n",
       "    <tr>\n",
       "      <th>199998</th>\n",
       "      <td>0.4125</td>\n",
       "    </tr>\n",
       "  </tbody>\n",
       "</table>\n",
       "<p>55336 rows × 1 columns</p>\n",
       "</div>"
      ],
      "text/plain": [
       "        Height\n",
       "2       0.4125\n",
       "6       0.4375\n",
       "7       0.4375\n",
       "10      0.4250\n",
       "14      0.4750\n",
       "...        ...\n",
       "199976  0.4375\n",
       "199977  0.4125\n",
       "199984  0.4250\n",
       "199995  0.4375\n",
       "199998  0.4125\n",
       "\n",
       "[55336 rows x 1 columns]"
      ]
     },
     "execution_count": 40,
     "metadata": {},
     "output_type": "execute_result"
    }
   ],
   "source": [
    "data2.loc[data2['Height']>0.4,['Height']]"
   ]
  },
  {
   "cell_type": "markdown",
   "id": "1cf27988",
   "metadata": {},
   "source": [
    "## 5) what is the avg weight and height of whose age is 10"
   ]
  },
  {
   "cell_type": "code",
   "execution_count": 45,
   "id": "3d745857",
   "metadata": {},
   "outputs": [
    {
     "data": {
      "text/plain": [
       "Height     0.383367\n",
       "Weight    28.243308\n",
       "dtype: float64"
      ]
     },
     "execution_count": 45,
     "metadata": {},
     "output_type": "execute_result"
    }
   ],
   "source": [
    "data2.loc[data2['Age']==10,['Height','Weight']].mean()"
   ]
  },
  {
   "cell_type": "markdown",
   "id": "fa9adcf5",
   "metadata": {},
   "source": [
    "## 6) What is total of shell weight"
   ]
  },
  {
   "cell_type": "code",
   "execution_count": 46,
   "id": "cfac9d6e",
   "metadata": {},
   "outputs": [
    {
     "data": {
      "text/plain": [
       "1326845.8295214002"
      ]
     },
     "execution_count": 46,
     "metadata": {},
     "output_type": "execute_result"
    }
   ],
   "source": [
    "data2['Shell Weight'].sum()"
   ]
  },
  {
   "cell_type": "markdown",
   "id": "ea70eca7",
   "metadata": {},
   "source": [
    "## 7) How many persons belong to each and every unique age"
   ]
  },
  {
   "cell_type": "code",
   "execution_count": 51,
   "id": "394d3332",
   "metadata": {},
   "outputs": [
    {
     "data": {
      "text/plain": [
       "array([10, 19, 11,  9,  8, 14, 13,  6,  7, 16, 12, 20, 17,  5, 15,  4,  3,\n",
       "       22, 18, 21,  2, 23, 24, 26, 27,  1, 25, 29], dtype=int64)"
      ]
     },
     "execution_count": 51,
     "metadata": {},
     "output_type": "execute_result"
    }
   ],
   "source": [
    "pd.unique(data2['Age'])"
   ]
  },
  {
   "cell_type": "markdown",
   "id": "19ad31c4",
   "metadata": {},
   "source": [
    "## 8) What is the difference between shucked weight and viscera weight"
   ]
  },
  {
   "cell_type": "code",
   "execution_count": 55,
   "id": "9a0a632f",
   "metadata": {},
   "outputs": [
    {
     "name": "stdout",
     "output_type": "stream",
     "text": [
      "difference between shucked weight and viscera weight:- 999237.8582600503\n"
     ]
    }
   ],
   "source": [
    "print('difference between shucked weight and viscera weight:-',data2['Shucked Weight'].sum() - data2['Viscera Weight'].sum())"
   ]
  },
  {
   "cell_type": "markdown",
   "id": "3c90ea88",
   "metadata": {},
   "source": [
    "## 9) What is average height of the persons whose age is between 14 and 19"
   ]
  },
  {
   "cell_type": "code",
   "execution_count": 61,
   "id": "e61951a1",
   "metadata": {},
   "outputs": [
    {
     "name": "stdout",
     "output_type": "stream",
     "text": [
      "average height of the persons whose age is between 14 and 19:- Height    0.338741\n",
      "dtype: float64\n"
     ]
    }
   ],
   "source": [
    "print('average height of the persons whose age is between 14 and 19:-',data2.loc[(data2['Age']<=14) & (data2['Age']<=19),['Height']].mean())"
   ]
  },
  {
   "cell_type": "markdown",
   "id": "44d3e0f1",
   "metadata": {},
   "source": [
    "## 10) What is the average weight if we include shucked weight and viscera weight and shell weight"
   ]
  },
  {
   "cell_type": "code",
   "execution_count": 63,
   "id": "eeab73f9",
   "metadata": {},
   "outputs": [
    {
     "name": "stdout",
     "output_type": "stream",
     "text": [
      "Avg of:- Shucked Weight    9.989370\n",
      "Viscera Weight    4.993181\n",
      "Shell Weight      6.634229\n",
      "dtype: float64\n"
     ]
    }
   ],
   "source": [
    "print('Avg of:-',data2[['Shucked Weight','Viscera Weight','Shell Weight']].mean())"
   ]
  }
 ],
 "metadata": {
  "kernelspec": {
   "display_name": "Python 3 (ipykernel)",
   "language": "python",
   "name": "python3"
  },
  "language_info": {
   "codemirror_mode": {
    "name": "ipython",
    "version": 3
   },
   "file_extension": ".py",
   "mimetype": "text/x-python",
   "name": "python",
   "nbconvert_exporter": "python",
   "pygments_lexer": "ipython3",
   "version": "3.11.3"
  }
 },
 "nbformat": 4,
 "nbformat_minor": 5
}
