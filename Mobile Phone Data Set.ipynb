{
 "cells": [
  {
   "cell_type": "code",
   "execution_count": 1,
   "id": "f337faa1",
   "metadata": {},
   "outputs": [],
   "source": [
    "import numpy as np\n",
    "import pandas as pd"
   ]
  },
  {
   "cell_type": "code",
   "execution_count": 2,
   "id": "3654e94e",
   "metadata": {},
   "outputs": [
    {
     "data": {
      "text/html": [
       "<div>\n",
       "<style scoped>\n",
       "    .dataframe tbody tr th:only-of-type {\n",
       "        vertical-align: middle;\n",
       "    }\n",
       "\n",
       "    .dataframe tbody tr th {\n",
       "        vertical-align: top;\n",
       "    }\n",
       "\n",
       "    .dataframe thead th {\n",
       "        text-align: right;\n",
       "    }\n",
       "</style>\n",
       "<table border=\"1\" class=\"dataframe\">\n",
       "  <thead>\n",
       "    <tr style=\"text-align: right;\">\n",
       "      <th></th>\n",
       "      <th>phone_name</th>\n",
       "      <th>brand</th>\n",
       "      <th>os</th>\n",
       "      <th>inches</th>\n",
       "      <th>resolution</th>\n",
       "      <th>battery</th>\n",
       "      <th>battery_type</th>\n",
       "      <th>ram(GB)</th>\n",
       "      <th>announcement_date</th>\n",
       "      <th>weight(g)</th>\n",
       "      <th>...</th>\n",
       "      <th>video_1080p</th>\n",
       "      <th>video_4K</th>\n",
       "      <th>video_8K</th>\n",
       "      <th>video_30fps</th>\n",
       "      <th>video_60fps</th>\n",
       "      <th>video_120fps</th>\n",
       "      <th>video_240fps</th>\n",
       "      <th>video_480fps</th>\n",
       "      <th>video_960fps</th>\n",
       "      <th>price(USD)</th>\n",
       "    </tr>\n",
       "  </thead>\n",
       "  <tbody>\n",
       "    <tr>\n",
       "      <th>0</th>\n",
       "      <td>Y6II Compact</td>\n",
       "      <td>Huawei</td>\n",
       "      <td>Android 5.1</td>\n",
       "      <td>5.00</td>\n",
       "      <td>720x1280</td>\n",
       "      <td>2200</td>\n",
       "      <td>Li-Po</td>\n",
       "      <td>2</td>\n",
       "      <td>2016-09-01</td>\n",
       "      <td>140.0</td>\n",
       "      <td>...</td>\n",
       "      <td>False</td>\n",
       "      <td>False</td>\n",
       "      <td>False</td>\n",
       "      <td>True</td>\n",
       "      <td>False</td>\n",
       "      <td>False</td>\n",
       "      <td>False</td>\n",
       "      <td>False</td>\n",
       "      <td>False</td>\n",
       "      <td>120.000</td>\n",
       "    </tr>\n",
       "    <tr>\n",
       "      <th>1</th>\n",
       "      <td>K20 plus</td>\n",
       "      <td>LG</td>\n",
       "      <td>Android 7.0</td>\n",
       "      <td>5.30</td>\n",
       "      <td>720x1280</td>\n",
       "      <td>2700</td>\n",
       "      <td>Li-Ion</td>\n",
       "      <td>2</td>\n",
       "      <td>2016-12-01</td>\n",
       "      <td>140.0</td>\n",
       "      <td>...</td>\n",
       "      <td>True</td>\n",
       "      <td>False</td>\n",
       "      <td>False</td>\n",
       "      <td>True</td>\n",
       "      <td>False</td>\n",
       "      <td>False</td>\n",
       "      <td>False</td>\n",
       "      <td>False</td>\n",
       "      <td>False</td>\n",
       "      <td>100.000</td>\n",
       "    </tr>\n",
       "    <tr>\n",
       "      <th>2</th>\n",
       "      <td>P8 Lite (2017)</td>\n",
       "      <td>Huawei</td>\n",
       "      <td>Android 7.0</td>\n",
       "      <td>5.20</td>\n",
       "      <td>1080x1920</td>\n",
       "      <td>3000</td>\n",
       "      <td>Li-Ion</td>\n",
       "      <td>4</td>\n",
       "      <td>2017-01-01</td>\n",
       "      <td>147.0</td>\n",
       "      <td>...</td>\n",
       "      <td>True</td>\n",
       "      <td>False</td>\n",
       "      <td>False</td>\n",
       "      <td>True</td>\n",
       "      <td>False</td>\n",
       "      <td>False</td>\n",
       "      <td>False</td>\n",
       "      <td>False</td>\n",
       "      <td>False</td>\n",
       "      <td>420.000</td>\n",
       "    </tr>\n",
       "    <tr>\n",
       "      <th>3</th>\n",
       "      <td>Redmi Note 4</td>\n",
       "      <td>Xiaomi</td>\n",
       "      <td>Android 6.0</td>\n",
       "      <td>5.50</td>\n",
       "      <td>1080x1920</td>\n",
       "      <td>4100</td>\n",
       "      <td>Li-Po</td>\n",
       "      <td>4</td>\n",
       "      <td>2017-01-01</td>\n",
       "      <td>165.0</td>\n",
       "      <td>...</td>\n",
       "      <td>True</td>\n",
       "      <td>False</td>\n",
       "      <td>False</td>\n",
       "      <td>True</td>\n",
       "      <td>False</td>\n",
       "      <td>True</td>\n",
       "      <td>False</td>\n",
       "      <td>False</td>\n",
       "      <td>False</td>\n",
       "      <td>150.000</td>\n",
       "    </tr>\n",
       "    <tr>\n",
       "      <th>4</th>\n",
       "      <td>P10</td>\n",
       "      <td>Huawei</td>\n",
       "      <td>Android 7.0</td>\n",
       "      <td>5.10</td>\n",
       "      <td>1080x1920</td>\n",
       "      <td>3200</td>\n",
       "      <td>Li-Ion</td>\n",
       "      <td>4</td>\n",
       "      <td>2017-02-01</td>\n",
       "      <td>145.0</td>\n",
       "      <td>...</td>\n",
       "      <td>True</td>\n",
       "      <td>True</td>\n",
       "      <td>False</td>\n",
       "      <td>True</td>\n",
       "      <td>True</td>\n",
       "      <td>False</td>\n",
       "      <td>False</td>\n",
       "      <td>False</td>\n",
       "      <td>False</td>\n",
       "      <td>420.000</td>\n",
       "    </tr>\n",
       "    <tr>\n",
       "      <th>...</th>\n",
       "      <td>...</td>\n",
       "      <td>...</td>\n",
       "      <td>...</td>\n",
       "      <td>...</td>\n",
       "      <td>...</td>\n",
       "      <td>...</td>\n",
       "      <td>...</td>\n",
       "      <td>...</td>\n",
       "      <td>...</td>\n",
       "      <td>...</td>\n",
       "      <td>...</td>\n",
       "      <td>...</td>\n",
       "      <td>...</td>\n",
       "      <td>...</td>\n",
       "      <td>...</td>\n",
       "      <td>...</td>\n",
       "      <td>...</td>\n",
       "      <td>...</td>\n",
       "      <td>...</td>\n",
       "      <td>...</td>\n",
       "      <td>...</td>\n",
       "    </tr>\n",
       "    <tr>\n",
       "      <th>1507</th>\n",
       "      <td>vivo Y77t</td>\n",
       "      <td>Vivo</td>\n",
       "      <td>Android 13</td>\n",
       "      <td>6.64</td>\n",
       "      <td>1080x2388</td>\n",
       "      <td>5000</td>\n",
       "      <td>Li-Po</td>\n",
       "      <td>8</td>\n",
       "      <td>2023-08-18</td>\n",
       "      <td>190.0</td>\n",
       "      <td>...</td>\n",
       "      <td>True</td>\n",
       "      <td>False</td>\n",
       "      <td>False</td>\n",
       "      <td>True</td>\n",
       "      <td>False</td>\n",
       "      <td>False</td>\n",
       "      <td>False</td>\n",
       "      <td>False</td>\n",
       "      <td>False</td>\n",
       "      <td>170.000</td>\n",
       "    </tr>\n",
       "    <tr>\n",
       "      <th>1508</th>\n",
       "      <td>11x</td>\n",
       "      <td>Realme</td>\n",
       "      <td>Android 13</td>\n",
       "      <td>6.72</td>\n",
       "      <td>1080x2400</td>\n",
       "      <td>5000</td>\n",
       "      <td>Li-Po</td>\n",
       "      <td>8</td>\n",
       "      <td>2023-08-23</td>\n",
       "      <td>190.0</td>\n",
       "      <td>...</td>\n",
       "      <td>True</td>\n",
       "      <td>False</td>\n",
       "      <td>False</td>\n",
       "      <td>True</td>\n",
       "      <td>False</td>\n",
       "      <td>False</td>\n",
       "      <td>False</td>\n",
       "      <td>False</td>\n",
       "      <td>False</td>\n",
       "      <td>182.880</td>\n",
       "    </tr>\n",
       "    <tr>\n",
       "      <th>1509</th>\n",
       "      <td>GT5</td>\n",
       "      <td>Realme</td>\n",
       "      <td>Android 13</td>\n",
       "      <td>6.74</td>\n",
       "      <td>1240x2772</td>\n",
       "      <td>5240</td>\n",
       "      <td>Li-Po</td>\n",
       "      <td>16</td>\n",
       "      <td>2023-08-28</td>\n",
       "      <td>205.0</td>\n",
       "      <td>...</td>\n",
       "      <td>True</td>\n",
       "      <td>True</td>\n",
       "      <td>False</td>\n",
       "      <td>False</td>\n",
       "      <td>True</td>\n",
       "      <td>False</td>\n",
       "      <td>False</td>\n",
       "      <td>False</td>\n",
       "      <td>False</td>\n",
       "      <td>380.000</td>\n",
       "    </tr>\n",
       "    <tr>\n",
       "      <th>1510</th>\n",
       "      <td>GT5 240W</td>\n",
       "      <td>Realme</td>\n",
       "      <td>Android 13</td>\n",
       "      <td>6.74</td>\n",
       "      <td>1240x2772</td>\n",
       "      <td>4600</td>\n",
       "      <td>Li-Po</td>\n",
       "      <td>24</td>\n",
       "      <td>2023-08-28</td>\n",
       "      <td>205.0</td>\n",
       "      <td>...</td>\n",
       "      <td>True</td>\n",
       "      <td>True</td>\n",
       "      <td>False</td>\n",
       "      <td>False</td>\n",
       "      <td>True</td>\n",
       "      <td>False</td>\n",
       "      <td>False</td>\n",
       "      <td>False</td>\n",
       "      <td>False</td>\n",
       "      <td>470.000</td>\n",
       "    </tr>\n",
       "    <tr>\n",
       "      <th>1511</th>\n",
       "      <td>vivo iQOO Z7 Pro</td>\n",
       "      <td>Vivo</td>\n",
       "      <td>Android 13</td>\n",
       "      <td>6.78</td>\n",
       "      <td>1080x2400</td>\n",
       "      <td>4600</td>\n",
       "      <td>Li-Po</td>\n",
       "      <td>8</td>\n",
       "      <td>2023-08-31</td>\n",
       "      <td>175.0</td>\n",
       "      <td>...</td>\n",
       "      <td>True</td>\n",
       "      <td>True</td>\n",
       "      <td>False</td>\n",
       "      <td>True</td>\n",
       "      <td>False</td>\n",
       "      <td>False</td>\n",
       "      <td>False</td>\n",
       "      <td>False</td>\n",
       "      <td>False</td>\n",
       "      <td>287.988</td>\n",
       "    </tr>\n",
       "  </tbody>\n",
       "</table>\n",
       "<p>1512 rows × 22 columns</p>\n",
       "</div>"
      ],
      "text/plain": [
       "            phone_name   brand           os  inches resolution  battery  \\\n",
       "0         Y6II Compact  Huawei  Android 5.1    5.00   720x1280     2200   \n",
       "1             K20 plus      LG  Android 7.0    5.30   720x1280     2700   \n",
       "2       P8 Lite (2017)  Huawei  Android 7.0    5.20  1080x1920     3000   \n",
       "3         Redmi Note 4  Xiaomi  Android 6.0    5.50  1080x1920     4100   \n",
       "4                  P10  Huawei  Android 7.0    5.10  1080x1920     3200   \n",
       "...                ...     ...          ...     ...        ...      ...   \n",
       "1507         vivo Y77t    Vivo   Android 13    6.64  1080x2388     5000   \n",
       "1508               11x  Realme   Android 13    6.72  1080x2400     5000   \n",
       "1509               GT5  Realme   Android 13    6.74  1240x2772     5240   \n",
       "1510          GT5 240W  Realme   Android 13    6.74  1240x2772     4600   \n",
       "1511  vivo iQOO Z7 Pro    Vivo   Android 13    6.78  1080x2400     4600   \n",
       "\n",
       "     battery_type  ram(GB) announcement_date  weight(g)  ...  video_1080p  \\\n",
       "0           Li-Po        2        2016-09-01      140.0  ...        False   \n",
       "1          Li-Ion        2        2016-12-01      140.0  ...         True   \n",
       "2          Li-Ion        4        2017-01-01      147.0  ...         True   \n",
       "3           Li-Po        4        2017-01-01      165.0  ...         True   \n",
       "4          Li-Ion        4        2017-02-01      145.0  ...         True   \n",
       "...           ...      ...               ...        ...  ...          ...   \n",
       "1507        Li-Po        8        2023-08-18      190.0  ...         True   \n",
       "1508        Li-Po        8        2023-08-23      190.0  ...         True   \n",
       "1509        Li-Po       16        2023-08-28      205.0  ...         True   \n",
       "1510        Li-Po       24        2023-08-28      205.0  ...         True   \n",
       "1511        Li-Po        8        2023-08-31      175.0  ...         True   \n",
       "\n",
       "      video_4K  video_8K  video_30fps  video_60fps  video_120fps  \\\n",
       "0        False     False         True        False         False   \n",
       "1        False     False         True        False         False   \n",
       "2        False     False         True        False         False   \n",
       "3        False     False         True        False          True   \n",
       "4         True     False         True         True         False   \n",
       "...        ...       ...          ...          ...           ...   \n",
       "1507     False     False         True        False         False   \n",
       "1508     False     False         True        False         False   \n",
       "1509      True     False        False         True         False   \n",
       "1510      True     False        False         True         False   \n",
       "1511      True     False         True        False         False   \n",
       "\n",
       "      video_240fps  video_480fps  video_960fps  price(USD)  \n",
       "0            False         False         False     120.000  \n",
       "1            False         False         False     100.000  \n",
       "2            False         False         False     420.000  \n",
       "3            False         False         False     150.000  \n",
       "4            False         False         False     420.000  \n",
       "...            ...           ...           ...         ...  \n",
       "1507         False         False         False     170.000  \n",
       "1508         False         False         False     182.880  \n",
       "1509         False         False         False     380.000  \n",
       "1510         False         False         False     470.000  \n",
       "1511         False         False         False     287.988  \n",
       "\n",
       "[1512 rows x 22 columns]"
      ]
     },
     "execution_count": 2,
     "metadata": {},
     "output_type": "execute_result"
    }
   ],
   "source": [
    "data=pd.read_csv(r\"C:\\Users\\hithe\\Downloads\\cleaned_all_phones.csv\")\n",
    "data"
   ]
  },
  {
   "cell_type": "code",
   "execution_count": 3,
   "id": "c26cbff4",
   "metadata": {},
   "outputs": [
    {
     "name": "stdout",
     "output_type": "stream",
     "text": [
      "<class 'pandas.core.frame.DataFrame'>\n",
      "RangeIndex: 1512 entries, 0 to 1511\n",
      "Data columns (total 22 columns):\n",
      " #   Column             Non-Null Count  Dtype         \n",
      "---  ------             --------------  -----         \n",
      " 0   phone_name         1512 non-null   object        \n",
      " 1   brand              1512 non-null   object        \n",
      " 2   os                 1512 non-null   object        \n",
      " 3   inches             1512 non-null   float64       \n",
      " 4   resolution         1512 non-null   object        \n",
      " 5   battery            1512 non-null   int64         \n",
      " 6   battery_type       1512 non-null   object        \n",
      " 7   ram(GB)            1512 non-null   int64         \n",
      " 8   announcement_date  1512 non-null   datetime64[ns]\n",
      " 9   weight(g)          1512 non-null   float64       \n",
      " 10  storage(GB)        1512 non-null   int64         \n",
      " 11  video_720p         1512 non-null   bool          \n",
      " 12  video_1080p        1512 non-null   bool          \n",
      " 13  video_4K           1512 non-null   bool          \n",
      " 14  video_8K           1512 non-null   bool          \n",
      " 15  video_30fps        1512 non-null   bool          \n",
      " 16  video_60fps        1512 non-null   bool          \n",
      " 17  video_120fps       1512 non-null   bool          \n",
      " 18  video_240fps       1512 non-null   bool          \n",
      " 19  video_480fps       1512 non-null   bool          \n",
      " 20  video_960fps       1512 non-null   bool          \n",
      " 21  price(USD)         1512 non-null   float64       \n",
      "dtypes: bool(10), datetime64[ns](1), float64(3), int64(3), object(5)\n",
      "memory usage: 156.6+ KB\n"
     ]
    }
   ],
   "source": [
    "data['announcement_date']=pd.to_datetime(data['announcement_date'])\n",
    "data.info()"
   ]
  },
  {
   "cell_type": "markdown",
   "id": "8ab3643b",
   "metadata": {},
   "source": [
    "### 1) How many unique  mobile brands are there in the data provided"
   ]
  },
  {
   "cell_type": "code",
   "execution_count": 34,
   "id": "8b9db7fb",
   "metadata": {},
   "outputs": [
    {
     "data": {
      "text/plain": [
       "13"
      ]
     },
     "execution_count": 34,
     "metadata": {},
     "output_type": "execute_result"
    }
   ],
   "source": [
    "len(data['brand'].unique())"
   ]
  },
  {
   "cell_type": "markdown",
   "id": "99e10add",
   "metadata": {},
   "source": [
    "### 2) What is the average ram size of all the collected data"
   ]
  },
  {
   "cell_type": "code",
   "execution_count": 35,
   "id": "a920d31d",
   "metadata": {},
   "outputs": [
    {
     "data": {
      "text/plain": [
       "6.6838624338624335"
      ]
     },
     "execution_count": 35,
     "metadata": {},
     "output_type": "execute_result"
    }
   ],
   "source": [
    "data['ram(GB)'].mean()"
   ]
  },
  {
   "cell_type": "markdown",
   "id": "edc8fdc3",
   "metadata": {},
   "source": [
    "### 3) Which phone is having the maximum and minimum battery capacity"
   ]
  },
  {
   "cell_type": "code",
   "execution_count": 69,
   "id": "72d90570",
   "metadata": {},
   "outputs": [
    {
     "data": {
      "text/html": [
       "<div>\n",
       "<style scoped>\n",
       "    .dataframe tbody tr th:only-of-type {\n",
       "        vertical-align: middle;\n",
       "    }\n",
       "\n",
       "    .dataframe tbody tr th {\n",
       "        vertical-align: top;\n",
       "    }\n",
       "\n",
       "    .dataframe thead th {\n",
       "        text-align: right;\n",
       "    }\n",
       "</style>\n",
       "<table border=\"1\" class=\"dataframe\">\n",
       "  <thead>\n",
       "    <tr style=\"text-align: right;\">\n",
       "      <th></th>\n",
       "      <th>phone_name</th>\n",
       "      <th>battery</th>\n",
       "    </tr>\n",
       "  </thead>\n",
       "  <tbody>\n",
       "    <tr>\n",
       "      <th>573</th>\n",
       "      <td>V6</td>\n",
       "      <td>7250</td>\n",
       "    </tr>\n",
       "  </tbody>\n",
       "</table>\n",
       "</div>"
      ],
      "text/plain": [
       "    phone_name  battery\n",
       "573         V6     7250"
      ]
     },
     "execution_count": 69,
     "metadata": {},
     "output_type": "execute_result"
    }
   ],
   "source": [
    "data.loc[data['battery']==data['battery'].max(),['phone_name','battery']]"
   ]
  },
  {
   "cell_type": "code",
   "execution_count": 70,
   "id": "68db4f01",
   "metadata": {},
   "outputs": [
    {
     "data": {
      "text/html": [
       "<div>\n",
       "<style scoped>\n",
       "    .dataframe tbody tr th:only-of-type {\n",
       "        vertical-align: middle;\n",
       "    }\n",
       "\n",
       "    .dataframe tbody tr th {\n",
       "        vertical-align: top;\n",
       "    }\n",
       "\n",
       "    .dataframe thead th {\n",
       "        text-align: right;\n",
       "    }\n",
       "</style>\n",
       "<table border=\"1\" class=\"dataframe\">\n",
       "  <thead>\n",
       "    <tr style=\"text-align: right;\">\n",
       "      <th></th>\n",
       "      <th>phone_name</th>\n",
       "      <th>battery</th>\n",
       "    </tr>\n",
       "  </thead>\n",
       "  <tbody>\n",
       "    <tr>\n",
       "      <th>62</th>\n",
       "      <td>iPhone 8</td>\n",
       "      <td>1821</td>\n",
       "    </tr>\n",
       "    <tr>\n",
       "      <th>536</th>\n",
       "      <td>iPhone SE (2020)</td>\n",
       "      <td>1821</td>\n",
       "    </tr>\n",
       "  </tbody>\n",
       "</table>\n",
       "</div>"
      ],
      "text/plain": [
       "           phone_name  battery\n",
       "62           iPhone 8     1821\n",
       "536  iPhone SE (2020)     1821"
      ]
     },
     "execution_count": 70,
     "metadata": {},
     "output_type": "execute_result"
    }
   ],
   "source": [
    "data.loc[data['battery']==data['battery'].min(),['phone_name','battery']]"
   ]
  },
  {
   "cell_type": "markdown",
   "id": "2f0d68bd",
   "metadata": {},
   "source": [
    "### 4) What is the maximum battery capacity provided by Huawei Company"
   ]
  },
  {
   "cell_type": "code",
   "execution_count": 10,
   "id": "e54a2861",
   "metadata": {},
   "outputs": [
    {
     "data": {
      "text/plain": [
       "7000"
      ]
     },
     "execution_count": 10,
     "metadata": {},
     "output_type": "execute_result"
    }
   ],
   "source": [
    "huawei_data = data[data['brand'] == 'Huawei']\n",
    "max_battery_huawei = huawei_data['battery'].max()\n",
    "max_battery_huawei"
   ]
  },
  {
   "cell_type": "markdown",
   "id": "3260bd11",
   "metadata": {},
   "source": [
    "### 5) Which Phone brand is providing the highest and lowest ram"
   ]
  },
  {
   "cell_type": "code",
   "execution_count": 90,
   "id": "2ae2f355",
   "metadata": {},
   "outputs": [
    {
     "data": {
      "text/html": [
       "<div>\n",
       "<style scoped>\n",
       "    .dataframe tbody tr th:only-of-type {\n",
       "        vertical-align: middle;\n",
       "    }\n",
       "\n",
       "    .dataframe tbody tr th {\n",
       "        vertical-align: top;\n",
       "    }\n",
       "\n",
       "    .dataframe thead th {\n",
       "        text-align: right;\n",
       "    }\n",
       "</style>\n",
       "<table border=\"1\" class=\"dataframe\">\n",
       "  <thead>\n",
       "    <tr style=\"text-align: right;\">\n",
       "      <th></th>\n",
       "      <th>brand</th>\n",
       "      <th>ram(GB)</th>\n",
       "    </tr>\n",
       "  </thead>\n",
       "  <tbody>\n",
       "    <tr>\n",
       "      <th>27</th>\n",
       "      <td>Huawei</td>\n",
       "      <td>1</td>\n",
       "    </tr>\n",
       "    <tr>\n",
       "      <th>28</th>\n",
       "      <td>Samsung</td>\n",
       "      <td>1</td>\n",
       "    </tr>\n",
       "    <tr>\n",
       "      <th>69</th>\n",
       "      <td>Samsung</td>\n",
       "      <td>1</td>\n",
       "    </tr>\n",
       "    <tr>\n",
       "      <th>133</th>\n",
       "      <td>Huawei</td>\n",
       "      <td>1</td>\n",
       "    </tr>\n",
       "    <tr>\n",
       "      <th>182</th>\n",
       "      <td>Samsung</td>\n",
       "      <td>1</td>\n",
       "    </tr>\n",
       "    <tr>\n",
       "      <th>230</th>\n",
       "      <td>Samsung</td>\n",
       "      <td>1</td>\n",
       "    </tr>\n",
       "    <tr>\n",
       "      <th>236</th>\n",
       "      <td>Huawei</td>\n",
       "      <td>1</td>\n",
       "    </tr>\n",
       "    <tr>\n",
       "      <th>244</th>\n",
       "      <td>Xiaomi</td>\n",
       "      <td>1</td>\n",
       "    </tr>\n",
       "    <tr>\n",
       "      <th>304</th>\n",
       "      <td>Samsung</td>\n",
       "      <td>1</td>\n",
       "    </tr>\n",
       "    <tr>\n",
       "      <th>363</th>\n",
       "      <td>LG</td>\n",
       "      <td>1</td>\n",
       "    </tr>\n",
       "    <tr>\n",
       "      <th>550</th>\n",
       "      <td>Samsung</td>\n",
       "      <td>1</td>\n",
       "    </tr>\n",
       "  </tbody>\n",
       "</table>\n",
       "</div>"
      ],
      "text/plain": [
       "       brand  ram(GB)\n",
       "27    Huawei        1\n",
       "28   Samsung        1\n",
       "69   Samsung        1\n",
       "133   Huawei        1\n",
       "182  Samsung        1\n",
       "230  Samsung        1\n",
       "236   Huawei        1\n",
       "244   Xiaomi        1\n",
       "304  Samsung        1\n",
       "363       LG        1\n",
       "550  Samsung        1"
      ]
     },
     "execution_count": 90,
     "metadata": {},
     "output_type": "execute_result"
    }
   ],
   "source": [
    "data.loc[data['ram(GB)']==data['ram(GB)'].min(),['brand','ram(GB)']]"
   ]
  },
  {
   "cell_type": "code",
   "execution_count": 4,
   "id": "395ec8b5",
   "metadata": {},
   "outputs": [
    {
     "data": {
      "text/html": [
       "<div>\n",
       "<style scoped>\n",
       "    .dataframe tbody tr th:only-of-type {\n",
       "        vertical-align: middle;\n",
       "    }\n",
       "\n",
       "    .dataframe tbody tr th {\n",
       "        vertical-align: top;\n",
       "    }\n",
       "\n",
       "    .dataframe thead th {\n",
       "        text-align: right;\n",
       "    }\n",
       "</style>\n",
       "<table border=\"1\" class=\"dataframe\">\n",
       "  <thead>\n",
       "    <tr style=\"text-align: right;\">\n",
       "      <th></th>\n",
       "      <th>brand</th>\n",
       "      <th>ram(GB)</th>\n",
       "    </tr>\n",
       "  </thead>\n",
       "  <tbody>\n",
       "    <tr>\n",
       "      <th>1505</th>\n",
       "      <td>Xiaomi</td>\n",
       "      <td>24</td>\n",
       "    </tr>\n",
       "    <tr>\n",
       "      <th>1506</th>\n",
       "      <td>OnePlus</td>\n",
       "      <td>24</td>\n",
       "    </tr>\n",
       "    <tr>\n",
       "      <th>1510</th>\n",
       "      <td>Realme</td>\n",
       "      <td>24</td>\n",
       "    </tr>\n",
       "  </tbody>\n",
       "</table>\n",
       "</div>"
      ],
      "text/plain": [
       "        brand  ram(GB)\n",
       "1505   Xiaomi       24\n",
       "1506  OnePlus       24\n",
       "1510   Realme       24"
      ]
     },
     "execution_count": 4,
     "metadata": {},
     "output_type": "execute_result"
    }
   ],
   "source": [
    "data.loc[data['ram(GB)']==data['ram(GB)'].max(),['brand','ram(GB)']]"
   ]
  },
  {
   "cell_type": "markdown",
   "id": "7e7d20a0",
   "metadata": {},
   "source": [
    "### 6) How many phones has android 7.0 as there operating system"
   ]
  },
  {
   "cell_type": "code",
   "execution_count": 87,
   "id": "f86e9558",
   "metadata": {},
   "outputs": [
    {
     "data": {
      "text/plain": [
       "phone_name    33\n",
       "dtype: int64"
      ]
     },
     "execution_count": 87,
     "metadata": {},
     "output_type": "execute_result"
    }
   ],
   "source": [
    "data.loc[data['os']=='Android 7.0',['phone_name']].count()"
   ]
  },
  {
   "cell_type": "markdown",
   "id": "733a7c83",
   "metadata": {},
   "source": [
    "### 7) Which Phone is the oldest "
   ]
  },
  {
   "cell_type": "code",
   "execution_count": 96,
   "id": "4e445180",
   "metadata": {},
   "outputs": [
    {
     "data": {
      "text/html": [
       "<div>\n",
       "<style scoped>\n",
       "    .dataframe tbody tr th:only-of-type {\n",
       "        vertical-align: middle;\n",
       "    }\n",
       "\n",
       "    .dataframe tbody tr th {\n",
       "        vertical-align: top;\n",
       "    }\n",
       "\n",
       "    .dataframe thead th {\n",
       "        text-align: right;\n",
       "    }\n",
       "</style>\n",
       "<table border=\"1\" class=\"dataframe\">\n",
       "  <thead>\n",
       "    <tr style=\"text-align: right;\">\n",
       "      <th></th>\n",
       "      <th>phone_name</th>\n",
       "      <th>announcement_date</th>\n",
       "    </tr>\n",
       "  </thead>\n",
       "  <tbody>\n",
       "    <tr>\n",
       "      <th>0</th>\n",
       "      <td>Y6II Compact</td>\n",
       "      <td>2016-09-01</td>\n",
       "    </tr>\n",
       "  </tbody>\n",
       "</table>\n",
       "</div>"
      ],
      "text/plain": [
       "     phone_name announcement_date\n",
       "0  Y6II Compact        2016-09-01"
      ]
     },
     "execution_count": 96,
     "metadata": {},
     "output_type": "execute_result"
    }
   ],
   "source": [
    "data.loc[data['announcement_date']==data['announcement_date'].min(),['phone_name','announcement_date']]"
   ]
  },
  {
   "cell_type": "markdown",
   "id": "f4ff2563",
   "metadata": {},
   "source": [
    "### 8) Which brand produced maximum number of phone in the given data"
   ]
  },
  {
   "cell_type": "code",
   "execution_count": 14,
   "id": "ff0e24da",
   "metadata": {},
   "outputs": [
    {
     "data": {
      "text/plain": [
       "0    Xiaomi\n",
       "Name: brand, dtype: object"
      ]
     },
     "execution_count": 14,
     "metadata": {},
     "output_type": "execute_result"
    }
   ],
   "source": [
    "data['brand'].mode()"
   ]
  },
  {
   "cell_type": "markdown",
   "id": "82c2b57d",
   "metadata": {},
   "source": [
    "### 9) Give the count of phones supporting\n",
    "\n",
    "### 4K"
   ]
  },
  {
   "cell_type": "code",
   "execution_count": 104,
   "id": "c67baf92",
   "metadata": {},
   "outputs": [
    {
     "data": {
      "text/plain": [
       "phone_name    801\n",
       "dtype: int64"
      ]
     },
     "execution_count": 104,
     "metadata": {},
     "output_type": "execute_result"
    }
   ],
   "source": [
    "data.loc[data['video_4K']==True,['phone_name']].count()"
   ]
  },
  {
   "cell_type": "markdown",
   "id": "0b3c4974",
   "metadata": {},
   "source": [
    "### 8K"
   ]
  },
  {
   "cell_type": "code",
   "execution_count": 111,
   "id": "0ada52f3",
   "metadata": {},
   "outputs": [
    {
     "data": {
      "text/plain": [
       "phone_name    86\n",
       "dtype: int64"
      ]
     },
     "execution_count": 111,
     "metadata": {},
     "output_type": "execute_result"
    }
   ],
   "source": [
    "data.loc[data['video_8K']==True,['phone_name']].count()"
   ]
  },
  {
   "cell_type": "markdown",
   "id": "6ebdc657",
   "metadata": {},
   "source": [
    "### 2K"
   ]
  },
  {
   "cell_type": "code",
   "execution_count": 112,
   "id": "720b64d8",
   "metadata": {},
   "outputs": [
    {
     "data": {
      "text/plain": [
       "phone_name    1503\n",
       "dtype: int64"
      ]
     },
     "execution_count": 112,
     "metadata": {},
     "output_type": "execute_result"
    }
   ],
   "source": [
    "data.loc[data['video_1080p']==True,['phone_name']].count()"
   ]
  },
  {
   "cell_type": "markdown",
   "id": "30023465",
   "metadata": {},
   "source": [
    "### 10) How many phones supports Li-Po and Li-ion Battery"
   ]
  },
  {
   "cell_type": "code",
   "execution_count": 20,
   "id": "ea17aac5",
   "metadata": {},
   "outputs": [
    {
     "name": "stdout",
     "output_type": "stream",
     "text": [
      "Phones support Li-po battery phone_name    1242\n",
      "dtype: int64\n",
      "Phones support Li-ion battery phone_name    0\n",
      "dtype: int64\n"
     ]
    }
   ],
   "source": [
    "print('Phones support Li-po battery',data.loc[(data['battery_type']=='Li-Po'),['phone_name']].count())\n",
    "print('Phones support Li-ion battery',data.loc[(data['battery_type']=='Li-ion'),['phone_name']].count())"
   ]
  },
  {
   "cell_type": "markdown",
   "id": "623c3485",
   "metadata": {},
   "source": [
    "### 11) How many sony phones supports 720x1280 resolution"
   ]
  },
  {
   "cell_type": "code",
   "execution_count": 21,
   "id": "78886390",
   "metadata": {},
   "outputs": [
    {
     "ename": "SyntaxError",
     "evalue": "invalid syntax (1313755332.py, line 1)",
     "output_type": "error",
     "traceback": [
      "\u001b[1;36m  Cell \u001b[1;32mIn[21], line 1\u001b[1;36m\u001b[0m\n\u001b[1;33m    No data\u001b[0m\n\u001b[1;37m       ^\u001b[0m\n\u001b[1;31mSyntaxError\u001b[0m\u001b[1;31m:\u001b[0m invalid syntax\n"
     ]
    }
   ],
   "source": [
    "No data"
   ]
  },
  {
   "cell_type": "markdown",
   "id": "aa674944",
   "metadata": {},
   "source": [
    "### 12) Print a pivot table for finding the average weights ,total weights,based on brand and battery type"
   ]
  },
  {
   "cell_type": "code",
   "execution_count": 23,
   "id": "7d2fd011",
   "metadata": {},
   "outputs": [
    {
     "data": {
      "text/html": [
       "<div>\n",
       "<style scoped>\n",
       "    .dataframe tbody tr th:only-of-type {\n",
       "        vertical-align: middle;\n",
       "    }\n",
       "\n",
       "    .dataframe tbody tr th {\n",
       "        vertical-align: top;\n",
       "    }\n",
       "\n",
       "    .dataframe thead tr th {\n",
       "        text-align: left;\n",
       "    }\n",
       "\n",
       "    .dataframe thead tr:last-of-type th {\n",
       "        text-align: right;\n",
       "    }\n",
       "</style>\n",
       "<table border=\"1\" class=\"dataframe\">\n",
       "  <thead>\n",
       "    <tr>\n",
       "      <th></th>\n",
       "      <th colspan=\"2\" halign=\"left\">mean</th>\n",
       "      <th colspan=\"2\" halign=\"left\">sum</th>\n",
       "    </tr>\n",
       "    <tr>\n",
       "      <th>battery_type</th>\n",
       "      <th>Li-Ion</th>\n",
       "      <th>Li-Po</th>\n",
       "      <th>Li-Ion</th>\n",
       "      <th>Li-Po</th>\n",
       "    </tr>\n",
       "    <tr>\n",
       "      <th>brand</th>\n",
       "      <th></th>\n",
       "      <th></th>\n",
       "      <th></th>\n",
       "      <th></th>\n",
       "    </tr>\n",
       "  </thead>\n",
       "  <tbody>\n",
       "    <tr>\n",
       "      <th>Apple</th>\n",
       "      <td>186.227273</td>\n",
       "      <td>NaN</td>\n",
       "      <td>4097.0</td>\n",
       "      <td>NaN</td>\n",
       "    </tr>\n",
       "    <tr>\n",
       "      <th>Google</th>\n",
       "      <td>190.666667</td>\n",
       "      <td>176.923077</td>\n",
       "      <td>1144.0</td>\n",
       "      <td>2300.0</td>\n",
       "    </tr>\n",
       "    <tr>\n",
       "      <th>Honor</th>\n",
       "      <td>165.333333</td>\n",
       "      <td>190.611570</td>\n",
       "      <td>496.0</td>\n",
       "      <td>23064.0</td>\n",
       "    </tr>\n",
       "    <tr>\n",
       "      <th>Huawei</th>\n",
       "      <td>158.354839</td>\n",
       "      <td>187.556604</td>\n",
       "      <td>4909.0</td>\n",
       "      <td>19881.0</td>\n",
       "    </tr>\n",
       "    <tr>\n",
       "      <th>LG</th>\n",
       "      <td>154.851852</td>\n",
       "      <td>183.812500</td>\n",
       "      <td>4181.0</td>\n",
       "      <td>8823.0</td>\n",
       "    </tr>\n",
       "    <tr>\n",
       "      <th>Lenovo</th>\n",
       "      <td>190.142857</td>\n",
       "      <td>218.586207</td>\n",
       "      <td>2662.0</td>\n",
       "      <td>6339.0</td>\n",
       "    </tr>\n",
       "    <tr>\n",
       "      <th>OnePlus</th>\n",
       "      <td>NaN</td>\n",
       "      <td>191.553191</td>\n",
       "      <td>NaN</td>\n",
       "      <td>9003.0</td>\n",
       "    </tr>\n",
       "    <tr>\n",
       "      <th>Oppo</th>\n",
       "      <td>157.833333</td>\n",
       "      <td>183.174603</td>\n",
       "      <td>3788.0</td>\n",
       "      <td>34620.0</td>\n",
       "    </tr>\n",
       "    <tr>\n",
       "      <th>Realme</th>\n",
       "      <td>166.833333</td>\n",
       "      <td>189.688742</td>\n",
       "      <td>1001.0</td>\n",
       "      <td>28643.0</td>\n",
       "    </tr>\n",
       "    <tr>\n",
       "      <th>Samsung</th>\n",
       "      <td>178.531250</td>\n",
       "      <td>196.727273</td>\n",
       "      <td>17139.0</td>\n",
       "      <td>21640.0</td>\n",
       "    </tr>\n",
       "    <tr>\n",
       "      <th>Sony</th>\n",
       "      <td>177.333333</td>\n",
       "      <td>178.769231</td>\n",
       "      <td>4256.0</td>\n",
       "      <td>2324.0</td>\n",
       "    </tr>\n",
       "    <tr>\n",
       "      <th>Vivo</th>\n",
       "      <td>NaN</td>\n",
       "      <td>190.232143</td>\n",
       "      <td>NaN</td>\n",
       "      <td>31959.0</td>\n",
       "    </tr>\n",
       "    <tr>\n",
       "      <th>Xiaomi</th>\n",
       "      <td>179.294118</td>\n",
       "      <td>195.906883</td>\n",
       "      <td>3048.0</td>\n",
       "      <td>48389.0</td>\n",
       "    </tr>\n",
       "  </tbody>\n",
       "</table>\n",
       "</div>"
      ],
      "text/plain": [
       "                    mean                  sum         \n",
       "battery_type      Li-Ion       Li-Po   Li-Ion    Li-Po\n",
       "brand                                                 \n",
       "Apple         186.227273         NaN   4097.0      NaN\n",
       "Google        190.666667  176.923077   1144.0   2300.0\n",
       "Honor         165.333333  190.611570    496.0  23064.0\n",
       "Huawei        158.354839  187.556604   4909.0  19881.0\n",
       "LG            154.851852  183.812500   4181.0   8823.0\n",
       "Lenovo        190.142857  218.586207   2662.0   6339.0\n",
       "OnePlus              NaN  191.553191      NaN   9003.0\n",
       "Oppo          157.833333  183.174603   3788.0  34620.0\n",
       "Realme        166.833333  189.688742   1001.0  28643.0\n",
       "Samsung       178.531250  196.727273  17139.0  21640.0\n",
       "Sony          177.333333  178.769231   4256.0   2324.0\n",
       "Vivo                 NaN  190.232143      NaN  31959.0\n",
       "Xiaomi        179.294118  195.906883   3048.0  48389.0"
      ]
     },
     "execution_count": 23,
     "metadata": {},
     "output_type": "execute_result"
    }
   ],
   "source": [
    "pd.pivot_table(data,index='brand',columns='battery_type',values='weight(g)',aggfunc=['mean','sum'])"
   ]
  },
  {
   "cell_type": "code",
   "execution_count": null,
   "id": "39928f68",
   "metadata": {},
   "outputs": [],
   "source": []
  }
 ],
 "metadata": {
  "kernelspec": {
   "display_name": "Python 3 (ipykernel)",
   "language": "python",
   "name": "python3"
  },
  "language_info": {
   "codemirror_mode": {
    "name": "ipython",
    "version": 3
   },
   "file_extension": ".py",
   "mimetype": "text/x-python",
   "name": "python",
   "nbconvert_exporter": "python",
   "pygments_lexer": "ipython3",
   "version": "3.11.3"
  }
 },
 "nbformat": 4,
 "nbformat_minor": 5
}
