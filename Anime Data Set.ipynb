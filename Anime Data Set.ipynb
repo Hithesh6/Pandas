{
 "cells": [
  {
   "cell_type": "code",
   "execution_count": 1,
   "id": "112b1441",
   "metadata": {},
   "outputs": [],
   "source": [
    "import pandas as pd\n",
    "import numpy as np"
   ]
  },
  {
   "cell_type": "code",
   "execution_count": 25,
   "id": "220d8d63",
   "metadata": {},
   "outputs": [
    {
     "data": {
      "text/html": [
       "<div>\n",
       "<style scoped>\n",
       "    .dataframe tbody tr th:only-of-type {\n",
       "        vertical-align: middle;\n",
       "    }\n",
       "\n",
       "    .dataframe tbody tr th {\n",
       "        vertical-align: top;\n",
       "    }\n",
       "\n",
       "    .dataframe thead th {\n",
       "        text-align: right;\n",
       "    }\n",
       "</style>\n",
       "<table border=\"1\" class=\"dataframe\">\n",
       "  <thead>\n",
       "    <tr style=\"text-align: right;\">\n",
       "      <th></th>\n",
       "      <th>Title</th>\n",
       "      <th>Genre</th>\n",
       "      <th>User Rating</th>\n",
       "      <th>Number of Votes</th>\n",
       "      <th>Runtime</th>\n",
       "      <th>Year</th>\n",
       "      <th>Summary</th>\n",
       "      <th>Stars</th>\n",
       "      <th>Certificate</th>\n",
       "      <th>Metascore</th>\n",
       "      <th>Gross</th>\n",
       "      <th>Episode</th>\n",
       "      <th>Episode Title</th>\n",
       "    </tr>\n",
       "  </thead>\n",
       "  <tbody>\n",
       "    <tr>\n",
       "      <th>0</th>\n",
       "      <td>One Piece</td>\n",
       "      <td>Animation, Action, Adventure</td>\n",
       "      <td>8.9</td>\n",
       "      <td>187,689</td>\n",
       "      <td>24 min</td>\n",
       "      <td>(1999– )</td>\n",
       "      <td>Follows the adventures of Monkey D. Luffy and ...</td>\n",
       "      <td>Mayumi Tanaka,Laurent Vernin,Akemi Okamura,Ton...</td>\n",
       "      <td>TV-14</td>\n",
       "      <td>NaN</td>\n",
       "      <td>187689</td>\n",
       "      <td>0</td>\n",
       "      <td>NaN</td>\n",
       "    </tr>\n",
       "    <tr>\n",
       "      <th>1</th>\n",
       "      <td>Teenage Mutant Ninja Turtles: Mutant Mayhem</td>\n",
       "      <td>Animation, Action, Adventure</td>\n",
       "      <td>7.4</td>\n",
       "      <td>28,895</td>\n",
       "      <td>99 min</td>\n",
       "      <td>(2023)</td>\n",
       "      <td>The film follows the Turtle brothers as they w...</td>\n",
       "      <td>NaN</td>\n",
       "      <td>PG</td>\n",
       "      <td>74</td>\n",
       "      <td>28895</td>\n",
       "      <td>0</td>\n",
       "      <td>NaN</td>\n",
       "    </tr>\n",
       "    <tr>\n",
       "      <th>2</th>\n",
       "      <td>The Super Mario Bros. Movie</td>\n",
       "      <td>Animation, Adventure, Comedy</td>\n",
       "      <td>7.1</td>\n",
       "      <td>189,108</td>\n",
       "      <td>92 min</td>\n",
       "      <td>(2023)</td>\n",
       "      <td>A plumber named Mario travels through an under...</td>\n",
       "      <td>NaN</td>\n",
       "      <td>PG</td>\n",
       "      <td>46</td>\n",
       "      <td>189108</td>\n",
       "      <td>0</td>\n",
       "      <td>NaN</td>\n",
       "    </tr>\n",
       "    <tr>\n",
       "      <th>3</th>\n",
       "      <td>Attack on Titan</td>\n",
       "      <td>Animation, Action, Adventure</td>\n",
       "      <td>9.1</td>\n",
       "      <td>434,457</td>\n",
       "      <td>24 min</td>\n",
       "      <td>(2013–2023)</td>\n",
       "      <td>After his hometown is destroyed and his mother...</td>\n",
       "      <td>Josh Grelle,Bryce Papenbrook,Yûki Kaji,Yui Ish...</td>\n",
       "      <td>TV-MA</td>\n",
       "      <td>NaN</td>\n",
       "      <td>434457</td>\n",
       "      <td>0</td>\n",
       "      <td>NaN</td>\n",
       "    </tr>\n",
       "    <tr>\n",
       "      <th>4</th>\n",
       "      <td>Jujutsu Kaisen</td>\n",
       "      <td>Animation, Action, Adventure</td>\n",
       "      <td>8.5</td>\n",
       "      <td>82,909</td>\n",
       "      <td>24 min</td>\n",
       "      <td>(2020– )</td>\n",
       "      <td>A boy swallows a cursed talisman - the finger ...</td>\n",
       "      <td>Junya Enoki,Yûichi Nakamura,Adam McArthur,Yuma...</td>\n",
       "      <td>TV-MA</td>\n",
       "      <td>NaN</td>\n",
       "      <td>82909</td>\n",
       "      <td>0</td>\n",
       "      <td>NaN</td>\n",
       "    </tr>\n",
       "  </tbody>\n",
       "</table>\n",
       "</div>"
      ],
      "text/plain": [
       "                                         Title                         Genre  \\\n",
       "0                                    One Piece  Animation, Action, Adventure   \n",
       "1  Teenage Mutant Ninja Turtles: Mutant Mayhem  Animation, Action, Adventure   \n",
       "2                  The Super Mario Bros. Movie  Animation, Adventure, Comedy   \n",
       "3                              Attack on Titan  Animation, Action, Adventure   \n",
       "4                               Jujutsu Kaisen  Animation, Action, Adventure   \n",
       "\n",
       "  User Rating Number of Votes Runtime         Year  \\\n",
       "0         8.9         187,689  24 min     (1999– )   \n",
       "1         7.4          28,895  99 min       (2023)   \n",
       "2         7.1         189,108  92 min       (2023)   \n",
       "3         9.1         434,457  24 min  (2013–2023)   \n",
       "4         8.5          82,909  24 min     (2020– )   \n",
       "\n",
       "                                             Summary  \\\n",
       "0  Follows the adventures of Monkey D. Luffy and ...   \n",
       "1  The film follows the Turtle brothers as they w...   \n",
       "2  A plumber named Mario travels through an under...   \n",
       "3  After his hometown is destroyed and his mother...   \n",
       "4  A boy swallows a cursed talisman - the finger ...   \n",
       "\n",
       "                                               Stars Certificate   Metascore  \\\n",
       "0  Mayumi Tanaka,Laurent Vernin,Akemi Okamura,Ton...       TV-14         NaN   \n",
       "1                                                NaN          PG  74           \n",
       "2                                                NaN          PG  46           \n",
       "3  Josh Grelle,Bryce Papenbrook,Yûki Kaji,Yui Ish...       TV-MA         NaN   \n",
       "4  Junya Enoki,Yûichi Nakamura,Adam McArthur,Yuma...       TV-MA         NaN   \n",
       "\n",
       "    Gross Episode Episode Title  \n",
       "0  187689       0           NaN  \n",
       "1   28895       0           NaN  \n",
       "2  189108       0           NaN  \n",
       "3  434457       0           NaN  \n",
       "4   82909       0           NaN  "
      ]
     },
     "execution_count": 25,
     "metadata": {},
     "output_type": "execute_result"
    }
   ],
   "source": [
    "data=pd.read_csv(r\"C:\\Users\\hithe\\Downloads\\imdb_anime.csv\")\n",
    "data.head()"
   ]
  },
  {
   "cell_type": "code",
   "execution_count": 28,
   "id": "848a8a73",
   "metadata": {},
   "outputs": [],
   "source": [
    "data.fillna({\"Title\":\"no title\",\"Genre\":\"no genre\",\"User Rating\":0,\"Number of Votes\":0,\"Runtime\":\"10\",\"Year\":0,\"Summary\":\"no summary\",\"Stars\":\"no stars\",\"Certificate\":\"no certificate\",\"Metascore\":0,\"Gross\":10,\"Episode\":0,\"Episode Title\":\"no\"},inplace=True)\n",
    "data.replace({\"User Rating\":{\"User Rating\":0},\"Number of Votes\":{\"Number of Votes\":0},\"Runtime\":{\"Runtime\":\"10\"},\"Metascore\":{\"Metascore\":0},\"Gross\":{\"Gross\":10},\"Episode\":{\"Episode\":0}},inplace=True)\n",
    "data=data.astype({\"User Rating\":float,\"Metascore\":int,\"Gross\":int,\"Episode\":int,\"Year\":str})"
   ]
  },
  {
   "cell_type": "code",
   "execution_count": 29,
   "id": "ee2e5c64",
   "metadata": {},
   "outputs": [
    {
     "name": "stdout",
     "output_type": "stream",
     "text": [
      "<class 'pandas.core.frame.DataFrame'>\n",
      "RangeIndex: 45717 entries, 0 to 45716\n",
      "Data columns (total 13 columns):\n",
      " #   Column           Non-Null Count  Dtype  \n",
      "---  ------           --------------  -----  \n",
      " 0   Title            45717 non-null  object \n",
      " 1   Genre            45717 non-null  object \n",
      " 2   User Rating      45717 non-null  float64\n",
      " 3   Number of Votes  45717 non-null  object \n",
      " 4   Runtime          45717 non-null  object \n",
      " 5   Year             45717 non-null  object \n",
      " 6   Summary          45717 non-null  object \n",
      " 7   Stars            45717 non-null  object \n",
      " 8   Certificate      45717 non-null  object \n",
      " 9   Metascore        45717 non-null  int32  \n",
      " 10  Gross            45717 non-null  int32  \n",
      " 11  Episode          45717 non-null  int32  \n",
      " 12  Episode Title    45717 non-null  object \n",
      "dtypes: float64(1), int32(3), object(9)\n",
      "memory usage: 4.0+ MB\n"
     ]
    }
   ],
   "source": [
    "data.info()"
   ]
  },
  {
   "cell_type": "markdown",
   "id": "09475491",
   "metadata": {},
   "source": [
    "## 1) How many unique anime are there"
   ]
  },
  {
   "cell_type": "code",
   "execution_count": 4,
   "id": "420ec515",
   "metadata": {},
   "outputs": [
    {
     "data": {
      "text/plain": [
       "9851"
      ]
     },
     "execution_count": 4,
     "metadata": {},
     "output_type": "execute_result"
    }
   ],
   "source": [
    "len(data['Title'].unique())"
   ]
  },
  {
   "cell_type": "markdown",
   "id": "cc3e0cbd",
   "metadata": {},
   "source": [
    "## 2) Which anime have the highest rating "
   ]
  },
  {
   "cell_type": "code",
   "execution_count": 6,
   "id": "bd28bd30",
   "metadata": {},
   "outputs": [],
   "source": [
    "data.fillna({'User Rating':0},inplace=True)"
   ]
  },
  {
   "cell_type": "code",
   "execution_count": 7,
   "id": "d6f70bd9",
   "metadata": {},
   "outputs": [],
   "source": [
    "data['User Rating'].replace({'User Rating':1.0},inplace=True)"
   ]
  },
  {
   "cell_type": "code",
   "execution_count": 8,
   "id": "605a8b87",
   "metadata": {},
   "outputs": [],
   "source": [
    "data=data.astype({'User Rating':np.float16})"
   ]
  },
  {
   "cell_type": "code",
   "execution_count": 15,
   "id": "03302d21",
   "metadata": {},
   "outputs": [
    {
     "name": "stdout",
     "output_type": "stream",
     "text": [
      "<class 'pandas.core.frame.DataFrame'>\n",
      "RangeIndex: 45717 entries, 0 to 45716\n",
      "Data columns (total 13 columns):\n",
      " #   Column           Non-Null Count  Dtype  \n",
      "---  ------           --------------  -----  \n",
      " 0   Title            45717 non-null  object \n",
      " 1   Genre            45717 non-null  object \n",
      " 2   User Rating      45717 non-null  float64\n",
      " 3   Number of Votes  45717 non-null  object \n",
      " 4   Runtime          45717 non-null  object \n",
      " 5   Year             45717 non-null  object \n",
      " 6   Summary          45717 non-null  object \n",
      " 7   Stars            45717 non-null  object \n",
      " 8   Certificate      45717 non-null  object \n",
      " 9   Metascore        45717 non-null  int32  \n",
      " 10  Gross            45717 non-null  int32  \n",
      " 11  Episode          45717 non-null  int32  \n",
      " 12  Episode Title    45717 non-null  object \n",
      "dtypes: float64(1), int32(3), object(9)\n",
      "memory usage: 4.0+ MB\n"
     ]
    }
   ],
   "source": [
    "data.info()"
   ]
  },
  {
   "cell_type": "code",
   "execution_count": 10,
   "id": "53818344",
   "metadata": {},
   "outputs": [
    {
     "data": {
      "text/html": [
       "<div>\n",
       "<style scoped>\n",
       "    .dataframe tbody tr th:only-of-type {\n",
       "        vertical-align: middle;\n",
       "    }\n",
       "\n",
       "    .dataframe tbody tr th {\n",
       "        vertical-align: top;\n",
       "    }\n",
       "\n",
       "    .dataframe thead th {\n",
       "        text-align: right;\n",
       "    }\n",
       "</style>\n",
       "<table border=\"1\" class=\"dataframe\">\n",
       "  <thead>\n",
       "    <tr style=\"text-align: right;\">\n",
       "      <th></th>\n",
       "      <th>Title</th>\n",
       "      <th>User Rating</th>\n",
       "    </tr>\n",
       "  </thead>\n",
       "  <tbody>\n",
       "    <tr>\n",
       "      <th>13656</th>\n",
       "      <td>Idaten Jump</td>\n",
       "      <td>9.898438</td>\n",
       "    </tr>\n",
       "    <tr>\n",
       "      <th>17874</th>\n",
       "      <td>Vinland Saga</td>\n",
       "      <td>9.898438</td>\n",
       "    </tr>\n",
       "    <tr>\n",
       "      <th>22753</th>\n",
       "      <td>Attack on Titan</td>\n",
       "      <td>9.898438</td>\n",
       "    </tr>\n",
       "    <tr>\n",
       "      <th>34677</th>\n",
       "      <td>Hunter x Hunter</td>\n",
       "      <td>9.898438</td>\n",
       "    </tr>\n",
       "    <tr>\n",
       "      <th>39614</th>\n",
       "      <td>Legend of the Galactic Heroes</td>\n",
       "      <td>9.898438</td>\n",
       "    </tr>\n",
       "    <tr>\n",
       "      <th>45689</th>\n",
       "      <td>Attack on Titan</td>\n",
       "      <td>9.898438</td>\n",
       "    </tr>\n",
       "  </tbody>\n",
       "</table>\n",
       "</div>"
      ],
      "text/plain": [
       "                               Title  User Rating\n",
       "13656                    Idaten Jump     9.898438\n",
       "17874                   Vinland Saga     9.898438\n",
       "22753                Attack on Titan     9.898438\n",
       "34677                Hunter x Hunter     9.898438\n",
       "39614  Legend of the Galactic Heroes     9.898438\n",
       "45689                Attack on Titan     9.898438"
      ]
     },
     "execution_count": 10,
     "metadata": {},
     "output_type": "execute_result"
    }
   ],
   "source": [
    "data.loc[data['User Rating']==data['User Rating'].max(),['Title','User Rating']]"
   ]
  },
  {
   "cell_type": "markdown",
   "id": "90c55fef",
   "metadata": {},
   "source": [
    "## 3) What are the animes having the rating between 7.0 and 9.0"
   ]
  },
  {
   "cell_type": "code",
   "execution_count": 11,
   "id": "0baf4774",
   "metadata": {},
   "outputs": [
    {
     "data": {
      "text/plain": [
       "array(['One Piece', 'Teenage Mutant Ninja Turtles: Mutant Mayhem',\n",
       "       'The Super Mario Bros. Movie', ..., 'Blade Runner: Black Lotus',\n",
       "       'Hero Mask', 'Juuni Taisen'], dtype=object)"
      ]
     },
     "execution_count": 11,
     "metadata": {},
     "output_type": "execute_result"
    }
   ],
   "source": [
    "data.loc[(data['User Rating']>=7.0) & (data['User Rating']<=9.0),'Title'].unique()"
   ]
  },
  {
   "cell_type": "code",
   "execution_count": 12,
   "id": "ace5f793",
   "metadata": {},
   "outputs": [
    {
     "data": {
      "text/plain": [
       "3111"
      ]
     },
     "execution_count": 12,
     "metadata": {},
     "output_type": "execute_result"
    }
   ],
   "source": [
    "len(data.loc[(data['User Rating']>=7.0) & (data['User Rating']<=9.0),'Title'].unique())"
   ]
  },
  {
   "cell_type": "markdown",
   "id": "209c3081",
   "metadata": {},
   "source": [
    "## 4) Which anime having the highest and lowest run time"
   ]
  },
  {
   "cell_type": "code",
   "execution_count": null,
   "id": "9c74581d",
   "metadata": {},
   "outputs": [],
   "source": []
  },
  {
   "cell_type": "markdown",
   "id": "17070da6",
   "metadata": {},
   "source": [
    "## 5) What is the runtime between ONE PIECE and THE SUPER MARIO BROS animes"
   ]
  },
  {
   "cell_type": "code",
   "execution_count": null,
   "id": "7399434b",
   "metadata": {},
   "outputs": [],
   "source": []
  },
  {
   "cell_type": "markdown",
   "id": "35053aff",
   "metadata": {},
   "source": [
    "## 6) Which is the oldest anime"
   ]
  },
  {
   "cell_type": "code",
   "execution_count": null,
   "id": "2bfe0a03",
   "metadata": {},
   "outputs": [],
   "source": []
  },
  {
   "cell_type": "markdown",
   "id": "f9f210c7",
   "metadata": {},
   "source": [
    "## 7) What are the animes released in the year 2023"
   ]
  },
  {
   "cell_type": "code",
   "execution_count": 13,
   "id": "1ea1a883",
   "metadata": {},
   "outputs": [
    {
     "data": {
      "text/html": [
       "<div>\n",
       "<style scoped>\n",
       "    .dataframe tbody tr th:only-of-type {\n",
       "        vertical-align: middle;\n",
       "    }\n",
       "\n",
       "    .dataframe tbody tr th {\n",
       "        vertical-align: top;\n",
       "    }\n",
       "\n",
       "    .dataframe thead th {\n",
       "        text-align: right;\n",
       "    }\n",
       "</style>\n",
       "<table border=\"1\" class=\"dataframe\">\n",
       "  <thead>\n",
       "    <tr style=\"text-align: right;\">\n",
       "      <th></th>\n",
       "      <th>Title</th>\n",
       "    </tr>\n",
       "  </thead>\n",
       "  <tbody>\n",
       "    <tr>\n",
       "      <th>1</th>\n",
       "      <td>Teenage Mutant Ninja Turtles: Mutant Mayhem</td>\n",
       "    </tr>\n",
       "    <tr>\n",
       "      <th>2</th>\n",
       "      <td>The Super Mario Bros. Movie</td>\n",
       "    </tr>\n",
       "    <tr>\n",
       "      <th>13</th>\n",
       "      <td>The Boy and the Heron</td>\n",
       "    </tr>\n",
       "    <tr>\n",
       "      <th>21</th>\n",
       "      <td>Ruby Gillman, Teenage Kraken</td>\n",
       "    </tr>\n",
       "    <tr>\n",
       "      <th>42</th>\n",
       "      <td>Resident Evil: Death Island</td>\n",
       "    </tr>\n",
       "    <tr>\n",
       "      <th>...</th>\n",
       "      <td>...</td>\n",
       "    </tr>\n",
       "    <tr>\n",
       "      <th>7965</th>\n",
       "      <td>Yomawari Neko</td>\n",
       "    </tr>\n",
       "    <tr>\n",
       "      <th>8558</th>\n",
       "      <td>Girls und Panzer das Finale: Part IV</td>\n",
       "    </tr>\n",
       "    <tr>\n",
       "      <th>8605</th>\n",
       "      <td>Jinzô Mahô Shôjo Kaini</td>\n",
       "    </tr>\n",
       "    <tr>\n",
       "      <th>8840</th>\n",
       "      <td>The Dog &amp; The Boy</td>\n",
       "    </tr>\n",
       "    <tr>\n",
       "      <th>10314</th>\n",
       "      <td>The Floating World</td>\n",
       "    </tr>\n",
       "  </tbody>\n",
       "</table>\n",
       "<p>105 rows × 1 columns</p>\n",
       "</div>"
      ],
      "text/plain": [
       "                                             Title\n",
       "1      Teenage Mutant Ninja Turtles: Mutant Mayhem\n",
       "2                      The Super Mario Bros. Movie\n",
       "13                           The Boy and the Heron\n",
       "21                    Ruby Gillman, Teenage Kraken\n",
       "42                     Resident Evil: Death Island\n",
       "...                                            ...\n",
       "7965                                 Yomawari Neko\n",
       "8558          Girls und Panzer das Finale: Part IV\n",
       "8605                        Jinzô Mahô Shôjo Kaini\n",
       "8840                             The Dog & The Boy\n",
       "10314                           The Floating World\n",
       "\n",
       "[105 rows x 1 columns]"
      ]
     },
     "execution_count": 13,
     "metadata": {},
     "output_type": "execute_result"
    }
   ],
   "source": [
    "data.loc[data['Year']=='(2023)',['Title']]"
   ]
  },
  {
   "cell_type": "markdown",
   "id": "663f4125",
   "metadata": {},
   "source": [
    "## 8) What is the avg user rating of all the animes whose genre is action"
   ]
  },
  {
   "cell_type": "code",
   "execution_count": 24,
   "id": "05ac1743",
   "metadata": {},
   "outputs": [
    {
     "data": {
      "text/plain": [
       "5.439916306053545"
      ]
     },
     "execution_count": 24,
     "metadata": {},
     "output_type": "execute_result"
    }
   ],
   "source": [
    "def f1(a2):\n",
    "    a1=\"Action\"\n",
    "    if a1 in a2:\n",
    "        return True\n",
    "    return False\n",
    "\n",
    "a=data[\"Genre\"].map(f1)\n",
    "b=(a.values)\n",
    "c=data[b]\n",
    "c[\"User Rating\"].mean()"
   ]
  },
  {
   "cell_type": "markdown",
   "id": "273a2451",
   "metadata": {},
   "source": [
    "## 9) Which anime has the least anime gross price"
   ]
  },
  {
   "cell_type": "code",
   "execution_count": 18,
   "id": "01855993",
   "metadata": {},
   "outputs": [],
   "source": [
    "data['Gross'].fillna(0, inplace=True)\n",
    "data['Gross'].replace({'Gross': 0}, inplace=True)\n",
    "data['Gross'] = data['Gross'].astype(np.int64)"
   ]
  },
  {
   "cell_type": "code",
   "execution_count": 19,
   "id": "fd9710df",
   "metadata": {},
   "outputs": [
    {
     "data": {
      "text/plain": [
       "Title    One Piece\n",
       "Gross       187689\n",
       "Name: 0, dtype: object"
      ]
     },
     "execution_count": 19,
     "metadata": {},
     "output_type": "execute_result"
    }
   ],
   "source": [
    "data.loc[data['Gross'].min(),['Title','Gross']]"
   ]
  },
  {
   "cell_type": "markdown",
   "id": "545df3f0",
   "metadata": {},
   "source": [
    "## 10) Which anime has the maximum anime gross price"
   ]
  },
  {
   "cell_type": "code",
   "execution_count": 14,
   "id": "8cee0f1a",
   "metadata": {},
   "outputs": [
    {
     "data": {
      "text/html": [
       "<div>\n",
       "<style scoped>\n",
       "    .dataframe tbody tr th:only-of-type {\n",
       "        vertical-align: middle;\n",
       "    }\n",
       "\n",
       "    .dataframe tbody tr th {\n",
       "        vertical-align: top;\n",
       "    }\n",
       "\n",
       "    .dataframe thead th {\n",
       "        text-align: right;\n",
       "    }\n",
       "</style>\n",
       "<table border=\"1\" class=\"dataframe\">\n",
       "  <thead>\n",
       "    <tr style=\"text-align: right;\">\n",
       "      <th></th>\n",
       "      <th>Title</th>\n",
       "      <th>Gross</th>\n",
       "    </tr>\n",
       "  </thead>\n",
       "  <tbody>\n",
       "    <tr>\n",
       "      <th>47</th>\n",
       "      <td>WALL·E</td>\n",
       "      <td>1162284</td>\n",
       "    </tr>\n",
       "    <tr>\n",
       "      <th>888</th>\n",
       "      <td>WALL·E</td>\n",
       "      <td>1162284</td>\n",
       "    </tr>\n",
       "  </tbody>\n",
       "</table>\n",
       "</div>"
      ],
      "text/plain": [
       "      Title    Gross\n",
       "47   WALL·E  1162284\n",
       "888  WALL·E  1162284"
      ]
     },
     "execution_count": 14,
     "metadata": {},
     "output_type": "execute_result"
    }
   ],
   "source": [
    "data.loc[data['Gross']==data['Gross'].max(),['Title','Gross']]"
   ]
  },
  {
   "cell_type": "markdown",
   "id": "9c82a9b1",
   "metadata": {},
   "source": [
    "## 11) How many animes belong to PG Certificate"
   ]
  },
  {
   "cell_type": "code",
   "execution_count": 23,
   "id": "9e0f1e21",
   "metadata": {},
   "outputs": [
    {
     "data": {
      "text/plain": [
       "425"
      ]
     },
     "execution_count": 23,
     "metadata": {},
     "output_type": "execute_result"
    }
   ],
   "source": [
    "len(data.loc[data['Certificate']=='PG',['Title']])"
   ]
  },
  {
   "cell_type": "markdown",
   "id": "320947df",
   "metadata": {},
   "source": [
    "## 12) What is the avg votes in the dataset"
   ]
  },
  {
   "cell_type": "code",
   "execution_count": null,
   "id": "f778abd1",
   "metadata": {},
   "outputs": [],
   "source": []
  }
 ],
 "metadata": {
  "kernelspec": {
   "display_name": "Python 3 (ipykernel)",
   "language": "python",
   "name": "python3"
  },
  "language_info": {
   "codemirror_mode": {
    "name": "ipython",
    "version": 3
   },
   "file_extension": ".py",
   "mimetype": "text/x-python",
   "name": "python",
   "nbconvert_exporter": "python",
   "pygments_lexer": "ipython3",
   "version": "3.11.3"
  }
 },
 "nbformat": 4,
 "nbformat_minor": 5
}
